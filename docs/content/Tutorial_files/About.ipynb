{
 "cells": [
  {
   "cell_type": "markdown",
   "metadata": {},
   "source": [
    "## About us\n",
    "\n",
    "### Pinar Goektepe\n",
    "...\n",
    "\n",
    "### Athina Tzovara\n",
    "\n",
    "My research uses computational techniques to study human cognition. During my PhD, I developed machine learning techniques to predict the outcome of coma patients based on their neural responses to sounds (https://www.ncbi.nlm.nih.gov/pubmed/23148350). Moreover, I have been using machine learning and computational modeling techniques to model physiological data, in relation to [decision-making](https://www.sciencedirect.com/science/article/pii/S1053811912001632?via%3Dihub), or [associative learning](https://journals.plos.org/ploscompbiol/article?id=10.1371/journal.pcbi.1006243). Importantly, throughout my research, I am advocating open and inclusive science practices, promoting diversity and inclusivity. \n",
    "\n",
    "### Elpiniki Apostolaki Iosifidou\n",
    "under construction \n"
   ]
  },
  {
   "cell_type": "markdown",
   "metadata": {},
   "source": [
    "## Contributing\n",
    "\n",
    "We welcome new contributions and ideas! [Here](https://github.com/aath0/AlgorithmsNeuroscience/issues/1) you can find the roadmap of this project and [here](https://github.com/aath0/AlgorithmsNeuroscience/issues) the issues we're currently working on."
   ]
  }
 ],
 "metadata": {
  "kernelspec": {
   "display_name": "Python 3",
   "language": "python",
   "name": "python3"
  },
  "language_info": {
   "codemirror_mode": {
    "name": "ipython",
    "version": 3
   },
   "file_extension": ".py",
   "mimetype": "text/x-python",
   "name": "python",
   "nbconvert_exporter": "python",
   "pygments_lexer": "ipython3",
   "version": "3.6.9"
  }
 },
 "nbformat": 4,
 "nbformat_minor": 2
}
