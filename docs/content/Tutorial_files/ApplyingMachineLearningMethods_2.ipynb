{
 "cells": [
  {
   "cell_type": "markdown",
   "metadata": {},
   "source": [
    "## Tutorial #5: Applying Machine Learning Methods to EEG Data on Group Level"
   ]
  },
  {
   "cell_type": "markdown",
   "metadata": {},
   "source": [
    "In this tutorial, same classification tasks in Tutorial-4 will be examined but this time analysis will be done on group level."
   ]
  },
  {
   "cell_type": "markdown",
   "metadata": {},
   "source": [
    "##### Dataset: \n",
    "The the previous tutorial data of the only one participant in 'Emotion-Antecedent Appraisal Checks: EEG and EMG data sets for Novelty and Pleasantness' is used. In this tutorial, all participans will be included"
   ]
  },
  {
   "cell_type": "code",
   "execution_count": 1,
   "metadata": {},
   "outputs": [],
   "source": [
    "# For elimiating warnings\n",
    "from warnings import simplefilter\n",
    "# ignore all future warnings\n",
    "simplefilter(action='ignore', category=FutureWarning)"
   ]
  },
  {
   "cell_type": "code",
   "execution_count": 20,
   "metadata": {},
   "outputs": [],
   "source": [
    "import mne\n",
    "from os.path import isfile, join\n",
    "from os import listdir\n",
    "import numpy as np\n",
    "import statistics\n",
    "from mne.decoding import Vectorizer\n",
    "\n",
    "from sklearn.preprocessing import StandardScaler\n",
    "from sklearn.pipeline import make_pipeline\n",
    "from sklearn.model_selection import cross_val_score, train_test_split, GridSearchCV, StratifiedKFold, cross_val_predict\n",
    "from sklearn.metrics import precision_recall_fscore_support, accuracy_score\n",
    "from pprint import pprint\n",
    "\n",
    "from scipy import stats\n",
    "\n",
    "# Models\n",
    "from sklearn import svm\n",
    "from sklearn.discriminant_analysis import LinearDiscriminantAnalysis\n",
    "from sklearn.linear_model import LogisticRegression"
   ]
  },
  {
   "cell_type": "code",
   "execution_count": 3,
   "metadata": {},
   "outputs": [],
   "source": [
    "#Load Dataset\n",
    "data_folder = '../../study1/study1_eeg/epochdata/'\n",
    "files = [data_folder+f for f in listdir(data_folder) if isfile(join(data_folder, f)) and '.DS_Store' not in f]\n",
    "ids = [int(f[-6:-4]) for f in files]\n",
    "\n",
    "numberOfEpochs = np.zeros((len(ids), 3))\n",
    "# Read the EEG epochs:\n",
    "epochs_all_UN, epochs_all_UP, epochs_all_NP = [], [], []\n",
    "for f in range(len(files)):\n",
    "    epochs = mne.read_epochs(files[f], verbose='error')\n",
    "    epochs_UN = epochs['FU', 'FN']\n",
    "    epochs_UP = epochs['FU', 'FP']\n",
    "    epochs_NP = epochs['FN', 'FP']\n",
    "    numberOfEpochs[f,0] = int(len(epochs_UN.events))\n",
    "    numberOfEpochs[f,1] = int(len(epochs_UP.events))\n",
    "    numberOfEpochs[f,2] = int(len(epochs_NP.events))\n",
    "    UN, UP, NP = [ids[f]], [ids[f]], [ids[f]]\n",
    "    UN.append(epochs_UN)\n",
    "    UP.append(epochs_UP)\n",
    "    NP.append(epochs_NP)\n",
    "    epochs_all_UN.append(UN)\n",
    "    epochs_all_UP.append(UP)\n",
    "    epochs_all_NP.append(NP)\n",
    "\n",
    "#print(numberOfEpochs)\n",
    "epochs_all_UN = np.array(epochs_all_UN)\n",
    "epochs_all_UP = np.array(epochs_all_UP)\n",
    "epochs_all_NP = np.array(epochs_all_NP)"
   ]
  },
  {
   "cell_type": "code",
   "execution_count": 4,
   "metadata": {},
   "outputs": [
    {
     "name": "stdout",
     "output_type": "stream",
     "text": [
      "Shape of epochs_UN: (25, 2)\n",
      "Shape of epochs_UP: (25, 2)\n",
      "Shape of epochs_NP: (25, 2)\n"
     ]
    }
   ],
   "source": [
    "print('Shape of epochs_UN: {}'.format(epochs_all_UN.shape))\n",
    "print('Shape of epochs_UP: {}'.format(epochs_all_UP.shape))\n",
    "print('Shape of epochs_NP: {}'.format(epochs_all_NP.shape))"
   ]
  },
  {
   "cell_type": "markdown",
   "metadata": {},
   "source": [
    "Separating data, labels and the ids of the participants for modelling"
   ]
  },
  {
   "cell_type": "code",
   "execution_count": 5,
   "metadata": {},
   "outputs": [],
   "source": [
    "def getData_labels(epochs):\n",
    "    data, labels, ids = [], [], []\n",
    "    for p in epochs:\n",
    "        tmp_epoch = p[1]\n",
    "        tmp_labels = tmp_epoch.events[:,-1]\n",
    "        labels.extend(tmp_labels)\n",
    "        tmp_id = p[0]\n",
    "        ids.extend([tmp_id]*len(tmp_labels))\n",
    "        data.extend(tmp_epoch.get_data())\n",
    "        \n",
    "    data = np.array(data)\n",
    "    labels = np.array(labels)\n",
    "    ids = np.array(ids)\n",
    "    return data, labels, ids"
   ]
  },
  {
   "cell_type": "markdown",
   "metadata": {},
   "source": [
    "### Example #1:  Classification between Unpleasant and Pleasant Events"
   ]
  },
  {
   "cell_type": "code",
   "execution_count": 6,
   "metadata": {},
   "outputs": [],
   "source": [
    "data_UP, labels_UP, ids_UP = getData_labels(epochs_all_UP)"
   ]
  },
  {
   "cell_type": "markdown",
   "metadata": {},
   "source": [
    "Standard score calculation is done by simply calculating accuracy regardless of the participant. The following function calculates and returns accuracy per participant."
   ]
  },
  {
   "cell_type": "code",
   "execution_count": 23,
   "metadata": {},
   "outputs": [],
   "source": [
    "def calculate_score_groupLevel(ids, predictions, labels):\n",
    "    print('ids: ', ids)\n",
    "    print('predictions: ')\n",
    "    pprint( predictions)\n",
    "    print('labels: ')\n",
    "    pprint(labels)\n",
    "    unique_ids = list(set(ids))\n",
    "    print('unique: ', unique_ids)\n",
    "    results = []\n",
    "    for id in unique_ids:\n",
    "        indices = [i for i, x in enumerate(ids) if x == id]\n",
    "        print('len indices: ', len(indices))\n",
    "        res = 0\n",
    "        for i in range(len(indices)):\n",
    "            if predictions[indices[i]] == labels[indices[i]]:\n",
    "                res += 1\n",
    "        print('res: ', res)\n",
    "        results.append(res/len(indices))\n",
    "    \n",
    "    return results, unique_ids"
   ]
  },
  {
   "cell_type": "markdown",
   "metadata": {},
   "source": [
    "Create all models and then run cross validation for all of them for comparing their performances."
   ]
  },
  {
   "cell_type": "code",
   "execution_count": 17,
   "metadata": {},
   "outputs": [],
   "source": [
    "# Linear Discriminant Analysis\n",
    "clf_lda_pip = make_pipeline(Vectorizer(), StandardScaler(), LinearDiscriminantAnalysis(solver='svd'))\n",
    "#Logistic Regression\n",
    "clf_lr_pip = make_pipeline(Vectorizer(), StandardScaler(), LogisticRegression(penalty='l1', random_state=42))\n",
    "\n",
    "models = [clf_lda_pip] #clf_lr_pip\n",
    "model_names = [ 'LDA'] #'LR', "
   ]
  },
  {
   "cell_type": "code",
   "execution_count": 24,
   "metadata": {},
   "outputs": [],
   "source": [
    "def applyCrossValidation(models, model_names, ids, data, labels, kfold):\n",
    "    results, results_perParticipant, unique_ids_all = [], [], []\n",
    "    \n",
    "    if np.all(np.isfinite(data)) == True and np.any(np.isnan(data)) == False:\n",
    "        for i in range(len(models)):\n",
    "            print(model_names[i])\n",
    "            predictions = cross_val_predict(models[i], data, labels, cv=kfold)\n",
    "            cv_accuracy_perparticipant, unique_ids = calculate_score_groupLevel(ids, predictions, labels)\n",
    "            results_perParticipant.append(cv_accuracy_perparticipant)\n",
    "            unique_ids_all.append(unique_ids)\n",
    "            cv_accuracy = cross_val_score(models[i], data, labels, cv=kfold)\n",
    "            results.append(cv_accuracy)\n",
    "            print('CV accuracy of model ' + model_names[i] + ': ' + str(cv_accuracy))\n",
    "            print('CV accuracy of model ' + model_names[i] + ' per participant: ' + str(cv_accuracy_perparticipant))\n",
    "    else:\n",
    "        print('Data has infinite or NaN value!')\n",
    "    \n",
    "    return results, results_perParticipant, unique_ids_all"
   ]
  },
  {
   "cell_type": "code",
   "execution_count": null,
   "metadata": {},
   "outputs": [
    {
     "name": "stdout",
     "output_type": "stream",
     "text": [
      "LDA\n"
     ]
    },
    {
     "name": "stderr",
     "output_type": "stream",
     "text": [
      "/anaconda3/envs/pinar/lib/python3.7/site-packages/sklearn/discriminant_analysis.py:388: UserWarning: Variables are collinear.\n",
      "  warnings.warn(\"Variables are collinear.\")\n",
      "/anaconda3/envs/pinar/lib/python3.7/site-packages/sklearn/discriminant_analysis.py:388: UserWarning: Variables are collinear.\n",
      "  warnings.warn(\"Variables are collinear.\")\n"
     ]
    }
   ],
   "source": [
    "kfold = StratifiedKFold(n_splits=3, random_state=42)\n",
    "results, results_perParticipant, unique_ids_all = applyCrossValidation(models, model_names, ids_UP, data_UP, labels_UP, kfold)"
   ]
  },
  {
   "cell_type": "code",
   "execution_count": 15,
   "metadata": {},
   "outputs": [],
   "source": [
    "mean_CVaccuracies, std_CVaccuracies = [], []"
   ]
  },
  {
   "cell_type": "markdown",
   "metadata": {},
   "source": [
    "Claculate mean and standard deviation of cross validation scores for each model"
   ]
  },
  {
   "cell_type": "code",
   "execution_count": 16,
   "metadata": {},
   "outputs": [
    {
     "name": "stdout",
     "output_type": "stream",
     "text": [
      "Results UP: [array([0.38266017, 0.34912892, 0.37377964]), array([0.32625348, 0.31358885, 0.28870293])]\n",
      "Mean cv accuracies UP: [0.36852290812317, 0.3095150869795531]\n",
      "Std cv accuracies UP: [0.017372709567566594, 0.01910386526397282]\n",
      "\n",
      "\n",
      "Mean cv accuracies: [[0.36852290812317, 0.3095150869795531]]\n",
      "Std cv accuracies: [[0.017372709567566594, 0.01910386526397282]]\n"
     ]
    }
   ],
   "source": [
    "print('Results UP: {}'.format(results))\n",
    "mean_CVaccuracies_UP, std_CVaccuracies_UP = [], []\n",
    "for i in range(len(results)):\n",
    "    mean_CVaccuracies_UP.append(statistics.mean(results[i]))\n",
    "    std_CVaccuracies_UP.append(statistics.stdev(results[i]))\n",
    "print('Mean cv accuracies UP: {}'.format(mean_CVaccuracies_UP))\n",
    "print('Std cv accuracies UP: {}'.format(std_CVaccuracies_UP))\n",
    "print('\\n')\n",
    "mean_CVaccuracies.append(mean_CVaccuracies_UP)\n",
    "std_CVaccuracies.append(std_CVaccuracies_UP)\n",
    "print('Mean cv accuracies: {}'.format(mean_CVaccuracies))\n",
    "print('Std cv accuracies: {}'.format(std_CVaccuracies))"
   ]
  },
  {
   "cell_type": "markdown",
   "metadata": {},
   "source": [
    "!!!! Not sure if the following plot makes sense!!!"
   ]
  },
  {
   "cell_type": "markdown",
   "metadata": {},
   "source": [
    "The following function plots lda and logistic regression scores for each partipant"
   ]
  },
  {
   "cell_type": "code",
   "execution_count": 17,
   "metadata": {},
   "outputs": [],
   "source": [
    "import matplotlib\n",
    "import matplotlib.pyplot as plt\n",
    "%matplotlib inline\n",
    "def plotCVScores_perParticipant(unique_ids, results, model_names):\n",
    "    \n",
    "    fig, ax = plt.subplots()\n",
    "    fig.suptitle('CV Accuracy Scores per Participant')\n",
    "    for i in range(len(results)):\n",
    "        if model_names[i] == 'LR':\n",
    "            color = 'ro'\n",
    "        else:\n",
    "            color = 'bo'\n",
    "        ax.plot(ids, results[i], color, label=model_names[i])\n",
    "    plt.xlabel('Participant IDs')\n",
    "    plt.ylabel('Accuracy')\n",
    "    ax.legend()\n",
    "    plt.show()"
   ]
  },
  {
   "cell_type": "code",
   "execution_count": 18,
   "metadata": {},
   "outputs": [
    {
     "data": {
      "image/png": "[encoded data removed]",
      "text/plain": [
       "<Figure size 432x288 with 1 Axes>"
      ]
     },
     "metadata": {
      "needs_background": "light"
     },
     "output_type": "display_data"
    }
   ],
   "source": [
    "plotCVScores_perParticipant(unique_ids_all, results_perParticipant, model_names)"
   ]
  },
  {
   "cell_type": "markdown",
   "metadata": {},
   "source": [
    "Box plots shows how given data is distributed around the mean of the data and also it highlights the outliers."
   ]
  },
  {
   "cell_type": "code",
   "execution_count": 19,
   "metadata": {},
   "outputs": [],
   "source": [
    "import matplotlib\n",
    "import matplotlib.pyplot as plt\n",
    "%matplotlib inline\n",
    "\n",
    "def plotModelComparison(results, model_names):\n",
    "    fig = plt.figure()\n",
    "    fig.suptitle('Model Comparison')\n",
    "    ax = fig.add_subplot(111)\n",
    "    plt.boxplot(results)\n",
    "    ax.set_xticklabels(model_names)\n",
    "    plt.show()"
   ]
  },
  {
   "cell_type": "code",
   "execution_count": 20,
   "metadata": {},
   "outputs": [
    {
     "data": {
      "image/png": "[encoded data removed]",
      "text/plain": [
       "<Figure size 432x288 with 1 Axes>"
      ]
     },
     "metadata": {
      "needs_background": "light"
     },
     "output_type": "display_data"
    }
   ],
   "source": [
    "plotModelComparison(results, model_names)"
   ]
  },
  {
   "cell_type": "markdown",
   "metadata": {},
   "source": [
    "Independent t-test is applied to statistically show whether there is a significant difference between performace of two models. Small p-value means that performace of models are significantly different, large p-value indicates that models are performing similar. In general, as the threshold for determining whether two distributions are different or not, p = 0.05 which corresponds to 95% confidence level is preffered."
   ]
  },
  {
   "cell_type": "code",
   "execution_count": 21,
   "metadata": {},
   "outputs": [],
   "source": [
    "def applyTTest(results, model_names):\n",
    "    if len(results) < 2:\n",
    "        print('Not enough values for t-test!')\n",
    "    else:\n",
    "        for i in range(len(results)):\n",
    "            for j in range(i+1,len(results)):\n",
    "                t, p = stats.ttest_ind(results[i],results[j])\n",
    "                print(\"p = {0} for t-test between {1} and {2}\".format(p,  model_names[i],  model_names[j]))"
   ]
  },
  {
   "cell_type": "code",
   "execution_count": 22,
   "metadata": {},
   "outputs": [
    {
     "name": "stdout",
     "output_type": "stream",
     "text": [
      "p = 0.016704736667900663 for t-test between LR and LDA\n"
     ]
    }
   ],
   "source": [
    "applyTTest(results, model_names)"
   ]
  },
  {
   "cell_type": "markdown",
   "metadata": {},
   "source": [
    "Since p-value is smaller than 0.05, we can conclude that there is a significant difference between performance of LDA and performance of LR on the task of classification between unpleasant and pleasant events."
   ]
  },
  {
   "cell_type": "markdown",
   "metadata": {},
   "source": [
    "### Example #2:  Classification between Unpleasant and Neutral Events"
   ]
  },
  {
   "cell_type": "code",
   "execution_count": 23,
   "metadata": {},
   "outputs": [],
   "source": [
    "# Dataset with unpleasant and neutral events\n",
    "data_UN, labels_UN, ids_UN = getData_labels(epochs_all_UN)"
   ]
  },
  {
   "cell_type": "code",
   "execution_count": 24,
   "metadata": {},
   "outputs": [],
   "source": [
    "# Linear Discriminant Analysis\n",
    "clf_lda_pip = make_pipeline(Vectorizer(), StandardScaler(), LinearDiscriminantAnalysis(solver='svd'))\n",
    "#Logistic Regression\n",
    "clf_lr_pip = make_pipeline(Vectorizer(), StandardScaler(), LogisticRegression(penalty='l1', random_state=42))\n",
    "models = [ clf_lr_pip, clf_lda_pip]\n",
    "model_names = [ 'LR', 'LDA']"
   ]
  },
  {
   "cell_type": "code",
   "execution_count": null,
   "metadata": {},
   "outputs": [
    {
     "name": "stdout",
     "output_type": "stream",
     "text": [
      "LR\n"
     ]
    }
   ],
   "source": [
    "kfold = StratifiedKFold(n_splits=3, random_state=42)\n",
    "results_UN, results_perParticipant_UN = applyCrossValidation(models, model_names, ids_UN, data_UN, labels_UN, kfold)    "
   ]
  },
  {
   "cell_type": "code",
   "execution_count": null,
   "metadata": {},
   "outputs": [],
   "source": [
    "print(results_UN)\n",
    "mean_CVaccuracies_UN, std_CVaccuracies_UN = [], []\n",
    "\n",
    "for i in range(len(results_UN)):\n",
    "    mean_CVaccuracies_UN.append(statistics.mean(results_UN[i]))\n",
    "    std_CVaccuracies_UN.append(statistics.stdev(results_UN[i]))\n",
    "\n",
    "mean_CVaccuracies.append(mean_CVaccuracies_UN)\n",
    "std_CVaccuracies.append(std_CVaccuracies_UN)\n",
    "print(mean_CVaccuracies)\n",
    "print(std_CVaccuracies)"
   ]
  },
  {
   "cell_type": "code",
   "execution_count": null,
   "metadata": {},
   "outputs": [],
   "source": [
    "plotModelComparison(results_UN, model_names)"
   ]
  },
  {
   "cell_type": "code",
   "execution_count": null,
   "metadata": {},
   "outputs": [],
   "source": [
    "applyTTest(results_UN, model_names)"
   ]
  },
  {
   "cell_type": "markdown",
   "metadata": {},
   "source": [
    "Since p-value is smaller than 0.05, we can conclude that there is a significant difference between performance of LDA and performance of LR on the task of classification between unpleasant and neutral events."
   ]
  },
  {
   "cell_type": "markdown",
   "metadata": {},
   "source": [
    "### Example #3: Classification between Pleasant and Neutral Events"
   ]
  },
  {
   "cell_type": "code",
   "execution_count": null,
   "metadata": {},
   "outputs": [],
   "source": [
    "# Dataset with unpleasant and neutral events\n",
    "data_NP, labels_NP, ids_NP = getData_labels(epochs_all_NP)"
   ]
  },
  {
   "cell_type": "code",
   "execution_count": null,
   "metadata": {},
   "outputs": [],
   "source": [
    "# Linear Discriminant Analysis\n",
    "clf_lda_pip = make_pipeline(Vectorizer(), StandardScaler(), LinearDiscriminantAnalysis(solver='svd'))\n",
    "#Logistic Regression\n",
    "clf_lr_pip = make_pipeline(Vectorizer(), StandardScaler(), LogisticRegression(penalty='l1', random_state=42))\n",
    "models = [ clf_lr_pip, clf_lda_pip]\n",
    "model_names = [ 'LR', 'LDA']"
   ]
  },
  {
   "cell_type": "code",
   "execution_count": null,
   "metadata": {},
   "outputs": [],
   "source": [
    "kfold = StratifiedKFold(n_splits=3, random_state=42)\n",
    "results_NP, results_perParticipant_NP = applyCrossValidation(models, model_names, ids_NP, data_NP, labels_NP, kfold) "
   ]
  },
  {
   "cell_type": "code",
   "execution_count": null,
   "metadata": {},
   "outputs": [],
   "source": [
    "print(results_NP)\n",
    "mean_CVaccuracies_NP, std_CVaccuracies_NP = [], []\n",
    "\n",
    "for i in range(len(results_NP)):\n",
    "    mean_CVaccuracies_NP.append(statistics.mean(results_NP[i]))\n",
    "    std_CVaccuracies_NP.append(statistics.stdev(results_NP[i]))\n",
    "\n",
    "mean_CVaccuracies.append(mean_CVaccuracies_NP)\n",
    "std_CVaccuracies.append(std_CVaccuracies_NP)\n",
    "print(mean_CVaccuracies)\n",
    "print(std_CVaccuracies)"
   ]
  },
  {
   "cell_type": "code",
   "execution_count": null,
   "metadata": {},
   "outputs": [],
   "source": [
    "plotModelComparison(results_NP, model_names)"
   ]
  },
  {
   "cell_type": "code",
   "execution_count": null,
   "metadata": {},
   "outputs": [],
   "source": [
    "applyTTest(results_NP, model_names)"
   ]
  },
  {
   "cell_type": "markdown",
   "metadata": {},
   "source": [
    "Since p-value is larger than 0.05, we can conclude that there is a significant difference between performance of LDA and performance of LR on the task of classification between neutral and pleasant events."
   ]
  },
  {
   "cell_type": "markdown",
   "metadata": {},
   "source": [
    "#### Comparing Performance of Models Over Different Tasks"
   ]
  },
  {
   "cell_type": "code",
   "execution_count": null,
   "metadata": {},
   "outputs": [],
   "source": [
    "def plotEvalMetrics(tasks, labels, evalMetric, metricName):\n",
    "    width = 0.2  # the width of the bars\n",
    "\n",
    "    # Set position of bar on X axis\n",
    "    rects1 = np.arange(len(evalMetric))\n",
    "    rects2 = [x + width for x in rects1]\n",
    "    rects3 = [x + width for x in rects2]\n",
    "\n",
    "    plt.bar(rects1, list(zip(*evalMetric))[0], color='#87CEFA', width=width, edgecolor='white', label=labels[0])\n",
    "    plt.bar(rects2, list(zip(*evalMetric))[1], color='#FFE4E1', width=width, edgecolor='white', label=labels[1])\n",
    "    \n",
    "    plt.xlabel('Classification Tasks')\n",
    "    plt.xticks([r + width/2 for r in range(len(evalMetric))], tasks)\n",
    "    plt.ylabel(metricName)\n",
    "\n",
    "    plt.legend(bbox_to_anchor=(1.01, 1), loc='upper left', )\n",
    "    plt.show()"
   ]
  },
  {
   "cell_type": "code",
   "execution_count": null,
   "metadata": {},
   "outputs": [],
   "source": [
    "#Plot Mean Accuracies\n",
    "tasks = ['UN', 'UP', 'NP']\n",
    "labels = ['LDA', 'LR']\n",
    "plotEvalMetrics(tasks, labels, mean_CVaccuracies, 'Mean CV Accuracy')"
   ]
  },
  {
   "cell_type": "code",
   "execution_count": null,
   "metadata": {},
   "outputs": [],
   "source": [
    "#Plot Std of Accuracies\n",
    "tasks = ['UN', 'UP', 'NP']\n",
    "labels = ['LDA', 'LR']\n",
    "plotEvalMetrics(tasks, labels, std_CVaccuracies, 'Std of CV Accuracies ')"
   ]
  },
  {
   "cell_type": "markdown",
   "metadata": {},
   "source": [
    "As part of group level analysis of eeg data, logistic regression (lr) and linear discriminant analysis (lda) are created as in the previous tutorial but this time svm is omitted because it requires hours to build with the amount of data we have. \n",
    "\n",
    "The first plot above showed the mean cross validation for both LDA and Logistic Regression on each task. While classifying between Unpleasant and Neutral events, both model provided accuracy around 50% which is the highest score among all tasks. For other two classification tasks, Lda performed better. It can be concluded that classification between Unpleasant and Pleasant events is the most difficult task for the models since both of them provided poor performance."
   ]
  },
  {
   "cell_type": "code",
   "execution_count": null,
   "metadata": {},
   "outputs": [],
   "source": []
  },
  {
   "cell_type": "code",
   "execution_count": null,
   "metadata": {},
   "outputs": [],
   "source": []
  }
 ],
 "metadata": {
  "@webio": {
   "lastCommId": null,
   "lastKernelId": null
  },
  "kernelspec": {
   "display_name": "Python 3",
   "language": "python",
   "name": "python3"
  },
  "language_info": {
   "codemirror_mode": {
    "name": "ipython",
    "version": 3
   },
   "file_extension": ".py",
   "mimetype": "text/x-python",
   "name": "python",
   "nbconvert_exporter": "python",
   "pygments_lexer": "ipython3",
   "version": "3.7.1"
  }
 },
 "nbformat": 4,
 "nbformat_minor": 2
}
