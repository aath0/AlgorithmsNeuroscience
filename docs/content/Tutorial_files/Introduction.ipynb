{
 "cells": [
  {
   "cell_type": "markdown",
   "metadata": {},
   "source": [
    "# Algorithms in neuroscience"
   ]
  },
  {
   "cell_type": "markdown",
   "metadata": {},
   "source": [
    "## Introduction\n",
    "\n",
    "As the amount and complexity of data collected in neuroscience increases, advanced algorithmic techniques have become imperative for analysing them. In particular, machine learning (ML) is used to infer intentions based on neural activity, in an attempt to control external devices. Algorithmic decisions can majorly improve the lives of patients suffering from neurological disorders, e.g. through neural implants that automatically detect and stop epileptic seizures before they occur, or by enabling communication in individuals who cannot control their bodies. While the use of algorithms has an enormous potential for bringing positive change, this comes with a cost, as algorithms are often treated as a black box.\n",
    "\n",
    "\n",
    "In interdisciplinary fields such as neuroscience, there is often a gap in expertise, as researchers come from very diverse fields as psychology vs. engineering. As a result, researchers from less computational  fields might be using algorithms without fully understanding their assumptions, while researchers who are developing algorithms may not be fully aware of the social and ethical implications of their use (i.e. privacy, stigma).\n",
    "\n",
    "\n",
    "The main goal of this resource is to raise awareness about the use of algorithmic decision-making in the field of neuroscience. To this aim, we are assembling material on the application of ML and signal-processing techniques for analysing neuroscientific data, in the form of tutorials."
   ]
  },
  {
   "cell_type": "markdown",
   "metadata": {},
   "source": [
    "## Scope and goals\n",
    "\n",
    "The present set of tutorials focuses on Electroencephalography (EEG), which is a non-invasive technique for measuring electrical activity of the brain by placing electrodes on participants' scalp. It is a relatively cheap, non-invasive technique that can be easily applied in healthy participants and patients. For example, one clinical application where EEG is commonly used is for [diagnosing epilepsy](https://jnnp.bmj.com/content/76/suppl_2/ii2).\n",
    "\n",
    "Although other neuroscience techniques also use algorithms, at the moment this tutorial will only cover EEG. If you want to contribute with another technique, or elaborate additional EEG methods please consult [our repository](https://github.com/aath0/AlgorithmsNeuroscience/blob/master/CONTRIBUTING.md).\n",
    "\n",
    "The goals for the present tutorial are three-fold:\n",
    "\n",
    "* Describe what undelies EEG measurements and common mis-conceptions\n",
    "* Provide insights into good practices for analyzing EEG datasets\n",
    "* Introduce the user to machine learning approaches and their application in the field of EEG research"
   ]
  },
  {
   "cell_type": "markdown",
   "metadata": {},
   "source": [
    "## Recommended resources\n",
    "\n",
    "Some resources that we recommend to study more theory in the field of EEG research include:\n",
    "* [MEG-EEG Primer](https://global.oup.com/academic/product/meg-eeg-primer-9780190497774?cc=ch&lang=en&)\n",
    "* [Analyzing Neural Time Series Data](https://mitpress.mit.edu/books/analyzing-neural-time-series-data) "
   ]
  }
 ],
 "metadata": {
  "kernelspec": {
   "display_name": "Python 3",
   "language": "python",
   "name": "python3"
  },
  "language_info": {
   "codemirror_mode": {
    "name": "ipython",
    "version": 3
   },
   "file_extension": ".py",
   "mimetype": "text/x-python",
   "name": "python",
   "nbconvert_exporter": "python",
   "pygments_lexer": "ipython3",
   "version": "3.6.9"
  }
 },
 "nbformat": 4,
 "nbformat_minor": 2
}
