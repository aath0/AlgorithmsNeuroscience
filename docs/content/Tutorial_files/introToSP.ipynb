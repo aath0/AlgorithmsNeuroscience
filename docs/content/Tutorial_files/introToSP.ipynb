{
 "cells": [
  {
   "cell_type": "markdown",
   "metadata": {},
   "source": [
    "# Introduction to Signal Processing\n",
    "\n",
    "## Overview\n",
    "The first part of this notebook will quickly go over several basic concepts from mathematics and physics that are important for signal processing. Nothing in this should be above college mathematics and physics, so if you feel confident you rember it, feel free to skip. \n",
    "1. [Complex numbers](https://github.com/aath0/AlgorithmsNeuroscience/blob/master/Tutorials/ComplexNumbers.ipynb) are fairly essential to understanding how sinusoids are represented in signal processing (and electronics in general). They are also a big help for visualising amplitude and phase of a signal.\n",
    "2. [Temporal Vs. Spectral Space](https://aath0.github.io/AlgorithmsNeuroscience/Tutorial_files/Temporal_vs_Spectral.html) will cover some concepts important to understanding what an electronic signal is and how to decompose it into it's components. The focus will lay on the Fourier series and transforms.\n",
    "3. [Acquiring Data](https://aath0.github.io/AlgorithmsNeuroscience/Tutorial_files/AcquiringData.html) will cover some of the basic concepts of data acquisition, such as the Nyquist-Shanon Theorem\n",
    "\n"
   ]
  }
 ],
 "metadata": {
  "kernelspec": {
   "display_name": "Python 3",
   "language": "python",
   "name": "python3"
  },
  "language_info": {
   "codemirror_mode": {
    "name": "ipython",
    "version": 3
   },
   "file_extension": ".py",
   "mimetype": "text/x-python",
   "name": "python",
   "nbconvert_exporter": "python",
   "pygments_lexer": "ipython3",
   "version": "3.7.1"
  }
 },
 "nbformat": 4,
 "nbformat_minor": 2
}
