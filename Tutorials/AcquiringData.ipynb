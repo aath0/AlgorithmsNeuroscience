{
 "cells": [
  {
   "cell_type": "code",
   "execution_count": 4,
   "metadata": {},
   "outputs": [],
   "source": [
    "## load libraries\n",
    "import matplotlib.pyplot as plt\n",
    "import matplotlib.animation\n",
    "import numpy as np\n",
    "import cmath as cm\n",
    "from scipy import signal as sps\n",
    "from IPython.display import HTML"
   ]
  },
  {
   "cell_type": "markdown",
   "metadata": {},
   "source": [
    "# Acquiring Data"
   ]
  },
  {
   "cell_type": "markdown",
   "metadata": {},
   "source": [
    "## What is a signal\n",
    "In neuroscience, most signals are **voltage varying in time**. Many bio-signals are amplified and filtered electric potentials (ie. voltages), such as ECG, EEG, EMG, etc. Others might be the result of a transducer, a device converting different physical measurements (eg. distance, pressure) to (usually) voltage.\n",
    "A notable exception are all video based signals, such as eye tracking. These are usually recorded as some arbitrary units directly in digital form.\n",
    "### Analog to Digital\n",
    "Most signals are measured as analog signals. This means they are continuous over time. Computers can't store or even process analog signals, we therefore use an *analog to digital converter* (ADC) which does what it says on the tin. This step is called **discretization**. From here on, continuous and analog as well as discrete and digital are going to be used interchangeably.\n",
    "Here is an example of a pure sine wave discretized at different sampling rates."
   ]
  },
  {
   "cell_type": "code",
   "execution_count": 2,
   "metadata": {},
   "outputs": [],
   "source": [
    "import matplotlib.pyplot as plt\n",
    "import numpy as np\n",
    "from scipy import interpolate\n",
    "\n",
    "\n",
    "# We'll use this interpolation to rebuild an analogue signal from digital samples\n",
    "# credit for this implementation goes to endolith: https://gist.github.com/endolith\n",
    "def sinc_interp(x, s, u):\n",
    "    \"\"\"\n",
    "    Interpolates x, sampled at \"s\" instants\n",
    "    Output y is sampled at \"u\" instants (\"u\" for \"upsampled\")\n",
    "    \n",
    "    from Matlab:\n",
    "    http://phaseportrait.blogspot.com/2008/06/sinc-interpolation-in-matlab.html        \n",
    "    \"\"\"\n",
    "    # Validate arguments\n",
    "    if len(x) != len(s):\n",
    "        raise(Exception, 'x and s must be the same length')\n",
    "    \n",
    "    # Find the period    \n",
    "    T = s[1] - s[0]    \n",
    "    \n",
    "    transposed = np.transpose(np.tile(np.arange(len(s)), (len(u),1))) * T    \n",
    "    \n",
    "    sincM = np.tile(u, (len(s), 1)) - transposed\n",
    "    y = np.dot(x, np.sinc(sincM / T))\n",
    "    \n",
    "    return y\n",
    "        \n",
    "\n",
    "#Set up figure\n",
    "fig, axes = plt.subplots(3,4,figsize=(12,4),sharex='col',sharey='row')\n",
    "\n",
    "# The signal will be a pure sinusoidal, at a frequency of 3 Hz (Hertz, Hz = 1/s)\n",
    "frequency = 3;\n",
    "# A high sampling rate (number of recorded data points per time unit) will give the\n",
    "# illusion of an analog signal, you will not be able to see the time steps.\n",
    "# At a lower sampling rate, you can clearly see when a point was sampled\n",
    "# If the sampling rate is at or below the Nyquist frequency, the acquired signal will be erroneous.\n",
    "\n",
    "# Now lets discretize this with a sampling rate of 10 Hz\n",
    "\n",
    "# We'll look at a dozen frequencies\n",
    "sampling_rates = [50,25,12,7,6.2,6,5.8,5,4.5,4,3,2.9];#np.logspace(np.log10(96),np.log10(1.5),num=8);\n",
    "\n",
    "# Compare all signals to a sampling rate of 50 Hz. Used by the interpolation\n",
    "reference_sampling_rate = 50;\n",
    "reference_time = np.arange(-10,10,1/reference_sampling_rate);\n",
    "reference_time = np.append(reference_time,1);\n",
    "reference_voltage = np.sin(2*np.pi*frequency*reference_time)\n",
    "\n",
    "# Iterate over axes and sampling rates\n",
    "for (axe,sampling_rate) in zip(axes.reshape(-1),sampling_rates):\n",
    "    # Create the time vector.\n",
    "    time = np.arange(-10.01,10,1/sampling_rate);\n",
    "    \n",
    "    # Compute the sinusoidal (x = Amplitude*sin(angular_frequency * time))\n",
    "    # Where angular_frequency = 2 * pi * frequency\n",
    "    voltage  =  np.sin(2*np.pi*frequency*time);\n",
    "    \n",
    "    # In order to get a better idea of the signal represented by the samples it is interpolated\n",
    "    # and plotted on top of the discretized signal. this step is not part of discretization.\n",
    "    # interpolate the signal using Whittaker-Shannon Interpolation\n",
    "    interpolated_voltage = sinc_interp(voltage,time,reference_time);\n",
    "    \n",
    "    axe.stem(time,voltage,use_line_collection=True);\n",
    "    axe.plot(reference_time,interpolated_voltage,'r');\n",
    "    axe.plot(reference_time,reference_voltage,'g.')\n",
    "    axe.set_title('Sampling Rate = {:05.2f} Hz'.format(sampling_rate))\n",
    "    axe.set_xlim(0,1)\n",
    "    \n",
    "\n",
    "plt.tight_layout()"
   ]
  },
  {
   "cell_type": "markdown",
   "metadata": {},
   "source": [
    "These plots show us that there is a qualitative change in the interpolated signal when the sampling rate drops below 6 Hz. While at 6 Hz the signal still looks more or less like the original (well, kinda), at 5.8 the interpolated signal suddenly is in antiphase. Even lower, completely new signals with much lower frequency appear. Notably, at 3 Hz (the fundamental frequency of the original signal) the signal completely flattens out to a DC (Direct Current) Signal. This makes sense, since each time we take a sample, the signal will be at exactly the same amplitude.\n",
    "\n",
    "## The Nyquist-Shanon Theorem\n",
    "These effects are called aliasing and are caused by a sampling rate that does not comply with the *Whittaker-Nyquist-Kotelnikov-Shannon* theroem. There were multiple, independent, discoveries of this theorem. It is most commonly known as the *Nyquist* or the *Nyquist-Shannon* Theorem. \n",
    "\n",
    "In the words of Claude Shannon:\n",
    "\n",
    ">If a function x(t) contains no frequencies higher than B Hertz, it is completely determined by giving its ordinates at a series of points spaced 1/(2B) seconds apart\n",
    "\n",
    "In other words, a signal is completely determined (ie. there is no information lost) if the sampling rate is more than twice as high as the highest frequency component present in the signal. This frequency of *2B* is called the Nyquist rate (or frequency). In the example it is 6Hz since the highest frequency (and only) component is at 3 Hz.\n",
    "\n",
    "A look at the plots shows that there are some issues: frequencies complying  with the theorem but close to the Nyquist rate are still quite distorted. We use the best possible interpolation method: the sinc interpolation (named after the sinc function described above). But we have only sampled over a limited time window. Would we extend it to $\\pm \\infty$ we should be able to reconstruct the signal perfectly. In theory.\n",
    "\n",
    "The point of these sampling theorems is not just to avoid losing information. \n",
    "At 6 and 3 Hz the signal flatlines, this is due to the sampling rate being at or at twice, the frequency of the signal. In this case, we sampled every time the signal passed through 0. So ignoring the theorem can lead to completely asinine  results.\n",
    "\n",
    "Here is an auditory example. \n",
    "\n",
    "**WARNING: check your sound volume: loud high pitched sounds**\n",
    "\n",
    "We'll use a perfect fifth harmony in two octaves:C7 (2093Hz) - F8 (2794Hz) and C8 (4186Hz) - F8 (5588Hz).\n",
    "\n",
    "First, we'll sample it at 44100 Hz. This is the typical sample rate used for music.\n",
    "\n"
   ]
  },
  {
   "cell_type": "code",
   "execution_count": 6,
   "metadata": {},
   "outputs": [],
   "source": [
    "import numpy as np\n",
    "import simpleaudio as sa\n",
    "\n",
    "# define a playback duration\n",
    "note_length = 1\n",
    "# define sampling rate\n",
    "sr = 44100\n",
    "# compute the frequencies of notes\n",
    "f = [pow(2,(96-69)/12)*440,pow(2,(101-69)/12)*440,\n",
    "    pow(2,(108-69)/12)*440,pow(2,(113-69)/12)*440]\n",
    "# define some variable amplitudes for the notes\n",
    "amplitudes = np.array([1,1,0.8,0.8])/len(f);\n",
    "# compute time vector\n",
    "t = np.arange(0,note_length,1/sr)\n",
    "# compute audio signal\n",
    "signal = np.sum(np.array([a*np.sin(2*np.pi*ff*t) for a in amplitudes for ff in f]),0)/len(f)\n",
    "audio = signal * (2**15 -1)\n",
    "audio = np.int16(audio)\n",
    "play_obj = sa.play_buffer(audio,1,2,sr)\n",
    "play_obj.wait_done()"
   ]
  },
  {
   "cell_type": "markdown",
   "metadata": {},
   "source": [
    "Nothing special so far. now let's crank the sampling rate way down to 11025 Hz. This is typically what you would hear on a phone line"
   ]
  },
  {
   "cell_type": "code",
   "execution_count": 7,
   "metadata": {},
   "outputs": [],
   "source": [
    "# define sampling rate\n",
    "sr = 11025\n",
    "# compute time vector\n",
    "t = np.arange(0,note_length,1/sr)\n",
    "# compute audio signal\n",
    "signal = np.sum(np.array([np.sin(2*np.pi*ff*t) for ff in f]),0)/len(f)\n",
    "audio = signal * (2**15 -1)\n",
    "audio = np.int16(audio)\n",
    "play_obj = sa.play_buffer(audio,1,2,sr)\n",
    "play_obj.wait_done()"
   ]
  },
  {
   "cell_type": "markdown",
   "metadata": {},
   "source": [
    "Even though nothing major happened, there is an issue with the higher notes. There is a distinctive electronic flair to it. This is the aliasing; due to the improper sampling rate, completely new frequencies are introduced to the signal. \n",
    "\n",
    "Now let's go all the way down to 8000 Hz. You might encounter this on walkie-talkies."
   ]
  },
  {
   "cell_type": "code",
   "execution_count": 8,
   "metadata": {},
   "outputs": [],
   "source": [
    "# define sampling rate\n",
    "sr = 8000\n",
    "# compute time vector\n",
    "t = np.arange(0,note_length,1/sr)\n",
    "# compute audio signal\n",
    "signal = np.sum(np.array([np.sin(2*np.pi*ff*t) for ff in f]),0)/len(f)\n",
    "audio = signal * (2**15 -1)\n",
    "audio = np.int16(audio)\n",
    "play_obj = sa.play_buffer(audio,1,2,sr)\n",
    "play_obj.wait_done()"
   ]
  },
  {
   "cell_type": "markdown",
   "metadata": {},
   "source": [
    "Now the pitch is hardly identifiable. It sounds more like a modem from the 90's than a perfect fifth harmonic."
   ]
  },
  {
   "cell_type": "code",
   "execution_count": null,
   "metadata": {},
   "outputs": [],
   "source": []
  }
 ],
 "metadata": {
  "kernelspec": {
   "display_name": "Python 3",
   "language": "python",
   "name": "python3"
  },
  "language_info": {
   "codemirror_mode": {
    "name": "ipython",
    "version": 3
   },
   "file_extension": ".py",
   "mimetype": "text/x-python",
   "name": "python",
   "nbconvert_exporter": "python",
   "pygments_lexer": "ipython3",
   "version": "3.7.1"
  }
 },
 "nbformat": 4,
 "nbformat_minor": 2
}
