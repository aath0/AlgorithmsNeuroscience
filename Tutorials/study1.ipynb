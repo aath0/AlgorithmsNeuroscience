{
 "cells": [
  {
   "cell_type": "markdown",
   "metadata": {},
   "source": [
    "### Emotion-Antecedent Appraisal Checks: EEG and EMG data sets for Novelty and Pleasantness \n",
    "\n",
    "This dataset is constructed by van Peer et al and it can be downloaded from https://zenodo.org/record/197404#.XZtCzy2B0UE. (van Peer, Jacobien M., Coutinho , Eduardo, Grandjean, Didier, & Scherer, Klaus R. (2017). Emotion-Antecedent Appraisal Checks: EEG and EMG datasets for Novelty and Pleasantness [Data set]. PloS One. Zenodo. http://doi.org/10.5281/zenodo.197404)"
   ]
  },
  {
   "cell_type": "code",
   "execution_count": 292,
   "metadata": {},
   "outputs": [],
   "source": [
    "import numpy as np\n",
    "import mne\n",
    "from mne.io import concatenate_raws, read_raw_fif\n",
    "import mne.viz\n",
    "from os import walk"
   ]
  },
  {
   "cell_type": "markdown",
   "metadata": {},
   "source": [
    "Get the files that belongs to participant 1"
   ]
  },
  {
   "cell_type": "code",
   "execution_count": 293,
   "metadata": {},
   "outputs": [
    {
     "name": "stdout",
     "output_type": "stream",
     "text": [
      "743\n"
     ]
    }
   ],
   "source": [
    "files = []\n",
    "path = '../../study1/study1_eeg/'\n",
    "participant_prefix = 'P-27_'\n",
    "for (dirpath, dirnames, filenames) in walk(path):\n",
    "    new_names = [dirpath+f for f in filenames if (participant_prefix in f)]\n",
    "    files.extend(new_names)\n",
    "    break\n",
    "print(len(files))"
   ]
  },
  {
   "cell_type": "markdown",
   "metadata": {},
   "source": [
    "Read the CSV file as a NumPy array"
   ]
  },
  {
   "cell_type": "code",
   "execution_count": 294,
   "metadata": {},
   "outputs": [
    {
     "name": "stdout",
     "output_type": "stream",
     "text": [
      "n_channels, n_times: (64, 384)\n",
      "Number of epochs: (743, 64, 384)\n"
     ]
    }
   ],
   "source": [
    "tmp = np.loadtxt(files[0], delimiter=',')\n",
    "n_channels = tmp.shape[0]\n",
    "n_times = tmp.shape[1]\n",
    "participant_data = np.ndarray((len(files),n_channels,n_times))\n",
    "\n",
    "for trial in range(1,len(files)):\n",
    "    new_data = np.loadtxt(files[trial], delimiter=',')\n",
    "    if trial == 1:\n",
    "        print('n_channels, n_times: ' + str(new_data.shape))\n",
    "    participant_data[trial] = new_data\n",
    "\n",
    "print('Number of epochs: ' + str(participant_data.shape))"
   ]
  },
  {
   "cell_type": "markdown",
   "metadata": {},
   "source": [
    "Extract event names from file names"
   ]
  },
  {
   "cell_type": "code",
   "execution_count": 295,
   "metadata": {},
   "outputs": [],
   "source": [
    "epochs_events = []\n",
    "for f in files:\n",
    "    res = f.split('_')\n",
    "    epochs_events.append(res[-2])"
   ]
  },
  {
   "cell_type": "markdown",
   "metadata": {},
   "source": [
    "Events parameter of epochs object is a numpy ndarray which has dimensions as (n_epochs,3).\n",
    "It has the following structure for each epoch: (event_sample, previous_event_id, event_id)"
   ]
  },
  {
   "cell_type": "code",
   "execution_count": 296,
   "metadata": {},
   "outputs": [
    {
     "name": "stdout",
     "output_type": "stream",
     "text": [
      "{'FP': 0, 'FN': 1, 'FU': 2, 'NN': 3, 'NP': 4, 'NU': 5}\n"
     ]
    }
   ],
   "source": [
    "unique_events = list(set(epochs_events))\n",
    "unique_events_num = [i for i in range(len(unique_events))]\n",
    "epoch_events_num = np.ndarray((len(epochs_events),3),int)\n",
    "\n",
    "for i in range(len(epochs_events)):\n",
    "    for j in range(len(unique_events)):\n",
    "        if epochs_events[i] == unique_events[j]:\n",
    "            epoch_events_num[i,2] = unique_events_num[j]\n",
    "            if i >0:\n",
    "                epoch_events_num[i,1] = epoch_events_num[i-1,2]\n",
    "            else:\n",
    "                epoch_events_num[i,1] = unique_events_num[j]\n",
    "        epoch_events_num[i,0] = i\n",
    "        \n",
    "event_id = {}\n",
    "for i in range(len(unique_events)):\n",
    "    event_id[unique_events[i]] = unique_events_num[i]\n",
    "print(event_id)"
   ]
  },
  {
   "cell_type": "markdown",
   "metadata": {},
   "source": [
    "Get the positions of channels. The data is collected with biosemi eeg device with 64 channels. Therefore biosemi64 should be passed to read_montage function to get channel positions."
   ]
  },
  {
   "cell_type": "code",
   "execution_count": 297,
   "metadata": {},
   "outputs": [
    {
     "name": "stdout",
     "output_type": "stream",
     "text": [
      "Number of channels: 67\n"
     ]
    }
   ],
   "source": [
    "montage = mne.channels.read_montage('biosemi64') \n",
    "print('Number of channels: ' + str(len(montage.ch_names)))\n",
    "montage.plot(show_names=True)"
   ]
  },
  {
   "cell_type": "markdown",
   "metadata": {},
   "source": [
    "Please note that montage has 64+3 channels however the data has 64 channels although data is collected with the same device. The additional 3 channels are fiducial points and they exist for referencing purposes. In order to match the data and motange, remove the fudicials. "
   ]
  },
  {
   "cell_type": "code",
   "execution_count": 298,
   "metadata": {},
   "outputs": [
    {
     "name": "stdout",
     "output_type": "stream",
     "text": [
      "Number of cahnnels after removing the fudicials: 64\n"
     ]
    }
   ],
   "source": [
    "n_channels = 64\n",
    "fiducials = ['Nz', 'LPA', 'RPA']\n",
    "ch_names = montage.ch_names\n",
    "ch_names = [x for x in ch_names if x not in fiducials]\n",
    "print('Number of cahnnels after removing the fudicials: '+ str(len(ch_names)))\n",
    "# Specify ampling rate\n",
    "sfreq = 256  # Hz"
   ]
  },
  {
   "cell_type": "markdown",
   "metadata": {},
   "source": [
    "Create the info structure for epochs object and then, create the epochs object with data of the participant, info object and the numpy array that keeps the events."
   ]
  },
  {
   "cell_type": "code",
   "execution_count": 299,
   "metadata": {
    "scrolled": true
   },
   "outputs": [
    {
     "name": "stdout",
     "output_type": "stream",
     "text": [
      "743 matching events found\n",
      "No baseline correction applied\n",
      "Not setting metadata\n",
      "0 projection items activated\n",
      "0 bad epochs dropped\n"
     ]
    },
    {
     "data": {
      "text/plain": [
       "<EpochsArray  |   743 events (all good), 0 - 1.49609 sec, baseline off, ~139.5 MB, data loaded,\n",
       " 'FN': 200\n",
       " 'FP': 190\n",
       " 'FU': 189\n",
       " 'NN': 51\n",
       " 'NP': 55\n",
       " 'NU': 58>"
      ]
     },
     "execution_count": 299,
     "metadata": {},
     "output_type": "execute_result"
    }
   ],
   "source": [
    "%matplotlib inline\n",
    "epochs_info = mne.create_info(ch_names, sfreq, ch_types='eeg')\n",
    "epochs = mne.EpochsArray(data=participant_data, info=epochs_info, events=epoch_events_num, event_id=event_id)\n",
    "epochs.set_montage(montage)"
   ]
  },
  {
   "cell_type": "markdown",
   "metadata": {},
   "source": [
    "Plot epochs, average of epoch and events."
   ]
  },
  {
   "cell_type": "code",
   "execution_count": 300,
   "metadata": {
    "scrolled": true
   },
   "outputs": [],
   "source": [
    "# Plot of averaged epochs\n",
    "epochs.average().plot()"
   ]
  },
  {
   "cell_type": "code",
   "execution_count": 301,
   "metadata": {},
   "outputs": [],
   "source": [
    "#plot events\n",
    "mne.viz.plot_events(epochs.events)"
   ]
  },
  {
   "cell_type": "code",
   "execution_count": 302,
   "metadata": {
    "scrolled": true
   },
   "outputs": [],
   "source": [
    "# Plot of epochs\n",
    "%matplotlib tk\n",
    "mne.viz.plot_epochs(epochs, scalings='auto')"
   ]
  },
  {
   "cell_type": "markdown",
   "metadata": {},
   "source": [
    "Save the epochs to a file with .fif extention."
   ]
  },
  {
   "cell_type": "code",
   "execution_count": 303,
   "metadata": {},
   "outputs": [
    {
     "name": "stderr",
     "output_type": "stream",
     "text": [
      "<ipython-input-303-4b85636aa43f>:1: RuntimeWarning: This filename (../../study1/study1_eeg/epochdata/P-27.fif) does not conform to MNE naming conventions. All epochs files should end with -epo.fif, -epo.fif.gz, _epo.fif or _epo.fif.gz\n",
      "  epochs.save('../../study1/study1_eeg/epochdata/'+participant_prefix[:-1]+'.fif')\n",
      "<ipython-input-303-4b85636aa43f>:1: DeprecationWarning: overwrite defaults to True in 0.18 but will change to False in 0.19, set it explicitly to avoid this warning\n",
      "  epochs.save('../../study1/study1_eeg/epochdata/'+participant_prefix[:-1]+'.fif')\n"
     ]
    }
   ],
   "source": [
    "epochs.save('../../study1/study1_eeg/epochdata/'+participant_prefix[:-1]+'.fif')"
   ]
  },
  {
   "cell_type": "code",
   "execution_count": null,
   "metadata": {},
   "outputs": [],
   "source": []
  }
 ],
 "metadata": {
  "kernelspec": {
   "display_name": "Python 3",
   "language": "python",
   "name": "python3"
  },
  "language_info": {
   "codemirror_mode": {
    "name": "ipython",
    "version": 3
   },
   "file_extension": ".py",
   "mimetype": "text/x-python",
   "name": "python",
   "nbconvert_exporter": "python",
   "pygments_lexer": "ipython3",
   "version": "3.7.1"
  }
 },
 "nbformat": 4,
 "nbformat_minor": 2
}
