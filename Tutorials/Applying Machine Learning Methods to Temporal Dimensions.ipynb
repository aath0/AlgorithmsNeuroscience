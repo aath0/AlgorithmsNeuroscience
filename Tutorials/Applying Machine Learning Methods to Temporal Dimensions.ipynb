{
 "cells": [
  {
   "cell_type": "markdown",
   "metadata": {},
   "source": [
    "### Tutorial #6: Applying Machine Learning Methods to Temporal Dimensions of EEG Data"
   ]
  },
  {
   "cell_type": "markdown",
   "metadata": {},
   "source": [
    "In this tutorial, same classification tasks in last two tutorails will be examined on temporal dimensions of eeg data."
   ]
  },
  {
   "cell_type": "markdown",
   "metadata": {},
   "source": [
    "In this strategy, selected model will be fitted to each time instance and performance of the model at each time instance will be evaluated on the same time instance in new epochs. "
   ]
  },
  {
   "cell_type": "markdown",
   "metadata": {},
   "source": [
    "SlidingEstimator in MNE package is provided for this purpose. It takes the model and optionally a scoring function as parameters to create a sliding estimator. After having created a sliding estimator, it can be fitted to the data, scored the estimator on each task or made predictions on new epochs."
   ]
  },
  {
   "cell_type": "code",
   "execution_count": 1,
   "metadata": {},
   "outputs": [],
   "source": [
    "import mne\n",
    "from mne.decoding import SlidingEstimator, cross_val_multiscore\n",
    "from mne.decoding import Vectorizer\n",
    "\n",
    "from os.path import isfile, join\n",
    "from os import listdir\n",
    "import numpy as np\n",
    "import statistics\n",
    "\n",
    "from sklearn.preprocessing import StandardScaler\n",
    "from sklearn.pipeline import make_pipeline\n",
    "from sklearn.model_selection import cross_val_score, train_test_split, GridSearchCV, StratifiedKFold\n",
    "from sklearn.metrics import precision_recall_fscore_support, accuracy_score\n",
    "\n",
    "# Models\n",
    "from sklearn import svm\n",
    "from sklearn.discriminant_analysis import LinearDiscriminantAnalysis\n",
    "from sklearn.linear_model import LogisticRegression"
   ]
  },
  {
   "cell_type": "code",
   "execution_count": null,
   "metadata": {},
   "outputs": [],
   "source": [
    "#Load Dataset\n",
    "data_folder = '../../study1/study1_eeg/epochdata/'\n",
    "files = [data_folder+f for f in listdir(data_folder) if isfile(join(data_folder, f)) and '.DS_Store' not in f]\n",
    "#files = files[:10]\n",
    "ids = [int(f[-6:-4]) for f in files]\n",
    "\n",
    "numberOfEpochs = np.zeros((len(ids), 3))\n",
    "# Read the EEG epochs:\n",
    "epochs_all_UN, epochs_all_UP, epochs_all_NP = [], [], []\n",
    "for f in range(len(files)):\n",
    "    epochs = mne.read_epochs(files[f], verbose=False)\n",
    "    epochs_UN = epochs['FU', 'FN']\n",
    "    epochs_UP = epochs['FU', 'FP']\n",
    "    epochs_NP = epochs['FN', 'FP']\n",
    "    numberOfEpochs[f,0] = int(len(epochs_UN.events))\n",
    "    numberOfEpochs[f,1] = int(len(epochs_UP.events))\n",
    "    numberOfEpochs[f,2] = int(len(epochs_NP.events))\n",
    "    UN, UP, NP = [ids[f]], [ids[f]], [ids[f]]\n",
    "    UN.append(epochs_UN)\n",
    "    UP.append(epochs_UP)\n",
    "    NP.append(epochs_NP)\n",
    "    epochs_all_UN.append(UN)\n",
    "    epochs_all_UP.append(UP)\n",
    "    epochs_all_NP.append(NP)\n",
    "\n",
    "#print(numberOfEpochs)\n",
    "epochs_all_UN = np.array(epochs_all_UN)\n",
    "epochs_all_UP = np.array(epochs_all_UP)\n",
    "epochs_all_NP = np.array(epochs_all_NP)"
   ]
  },
  {
   "cell_type": "code",
   "execution_count": null,
   "metadata": {},
   "outputs": [],
   "source": [
    "def getData_labels(epochs):\n",
    "    data, labels, ids = [], [], []\n",
    "    for p in epochs:\n",
    "        tmp_epoch = p[1]\n",
    "        tmp_labels = tmp_epoch.events[:,-1]\n",
    "        labels.extend(tmp_labels)\n",
    "        tmp_id = p[0]\n",
    "        ids.extend([tmp_id]*len(tmp_labels))        \n",
    "        data.extend(tmp_epoch.get_data())\n",
    "        \n",
    "    data = np.array(data)\n",
    "    labels = np.array(labels)\n",
    "    ids = np.array(ids)\n",
    "    return data, labels, ids"
   ]
  },
  {
   "cell_type": "code",
   "execution_count": null,
   "metadata": {},
   "outputs": [],
   "source": []
  },
  {
   "cell_type": "markdown",
   "metadata": {},
   "source": [
    "### Task #1: Classification of Unpleasant and Pleasant Events"
   ]
  },
  {
   "cell_type": "code",
   "execution_count": null,
   "metadata": {},
   "outputs": [],
   "source": [
    "#Preparing dataset\n",
    "data_UP, labels_UP, ids_UP = getData_labels(epochs_all_UP)\n",
    "print(np.all(np.isfinite(labels_UP)))\n",
    "print(np.any(np.isnan(labels_UP)))\n",
    "if np.isfinite(data_UP).all() == True and np.isnan(data_UP).any() == False:\n",
    "    print('not nan')\n",
    "else:\n",
    "    print('Nan')"
   ]
  },
  {
   "cell_type": "code",
   "execution_count": null,
   "metadata": {},
   "outputs": [],
   "source": [
    "clf_UP = make_pipeline(Vectorizer(), StandardScaler(), LinearDiscriminantAnalysis(solver='svd'))\n",
    "sl_UP = SlidingEstimator(clf_UP, scoring='accuracy') \n",
    "if np.isfinite(data_UP).all() == True and np.isnan(data_UP).any() == False:\n",
    "    CV_score_time = cross_val_multiscore(sl_UP, data_UP, labels_UP, cv=3)\n",
    "    print(CV_score_time)\n",
    "else:\n",
    "    print('Input contains NaN or infinity!')"
   ]
  },
  {
   "cell_type": "code",
   "execution_count": null,
   "metadata": {},
   "outputs": [],
   "source": [
    "import matplotlib.pyplot as plt\n",
    "%matplotlib inline\n",
    "\n",
    "def plotCVScores(times, CV_score_time):\n",
    "    fig, ax = plt.subplots()\n",
    "    fig.suptitle('CV Scores')\n",
    "    ax.plot(times, CV_score_time.T)\n",
    "    plt.xlabel('Time')\n",
    "    plt.ylabel('Mean CV Accuracy')\n",
    "    plt.show()\n"
   ]
  },
  {
   "cell_type": "code",
   "execution_count": null,
   "metadata": {},
   "outputs": [],
   "source": [
    "plotCVScores(epochs_UP.times, CV_score_time)"
   ]
  },
  {
   "cell_type": "markdown",
   "metadata": {},
   "source": [
    "### Task #2: Classification of Unpleasant and Neutral Events"
   ]
  },
  {
   "cell_type": "code",
   "execution_count": null,
   "metadata": {},
   "outputs": [],
   "source": [
    "#Preparing dataset\n",
    "data_UN, labels_UN, ids_UN = getData_labels(epochs_all_UN)"
   ]
  },
  {
   "cell_type": "code",
   "execution_count": null,
   "metadata": {},
   "outputs": [],
   "source": [
    "clf_UN = make_pipeline(Vectorizer(), StandardScaler(), LinearDiscriminantAnalysis(solver='svd'))\n",
    "sl_UN = SlidingEstimator(clf_UN, scoring='accuracy') \n",
    "if np.isfinite(data_UN).all() == True and np.isnan(data_UN).any() == False:\n",
    "    CV_score_time = cross_val_multiscore(sl_UN, data_UN, labels_UN, cv=3)\n",
    "    print(CV_score_time)\n",
    "    plotCVScores(epochs_UN.times, CV_score_time)\n",
    "else:\n",
    "    print('Input contains NaN or infinity!')"
   ]
  },
  {
   "cell_type": "markdown",
   "metadata": {},
   "source": [
    "### Task #3: Classification of Neutral and Pleasant Events"
   ]
  },
  {
   "cell_type": "code",
   "execution_count": null,
   "metadata": {},
   "outputs": [],
   "source": [
    "#Preparing dataset\n",
    "data_NP, labels_NP, ids_NP = getData_labels(epochs_all_NP)"
   ]
  },
  {
   "cell_type": "code",
   "execution_count": null,
   "metadata": {},
   "outputs": [],
   "source": [
    "clf_NP = make_pipeline(Vectorizer(), StandardScaler(), LinearDiscriminantAnalysis(solver='svd'))\n",
    "sl_NP = SlidingEstimator(clf_NP, scoring='accuracy') \n",
    "if np.isfinite(data_NP).all() == True and np.isnan(data_NP).any() == False:\n",
    "    CV_score_time = cross_val_multiscore(sl_NP, data_NP, labels_NP, cv=3)\n",
    "    print(CV_score_time)\n",
    "    plotCVScores(epochs_NP.times, CV_score_time)\n",
    "else:\n",
    "    print('Input contains NaN or infinity!')"
   ]
  },
  {
   "cell_type": "markdown",
   "metadata": {},
   "source": [
    "#### Analysis on temporal dimensions for each participant separately"
   ]
  },
  {
   "cell_type": "markdown",
   "metadata": {},
   "source": [
    "1. Prepare data for the analysis"
   ]
  },
  {
   "cell_type": "code",
   "execution_count": 3,
   "metadata": {},
   "outputs": [],
   "source": [
    "data_folder = '../../study1/study1_eeg/epochdata/'\n",
    "files = [data_folder+f for f in listdir(data_folder) if isfile(join(data_folder, f)) and '.DS_Store' not in f]"
   ]
  },
  {
   "cell_type": "code",
   "execution_count": 4,
   "metadata": {},
   "outputs": [
    {
     "name": "stderr",
     "output_type": "stream",
     "text": [
      "<ipython-input-4-e3b81b844133>:1: RuntimeWarning: This filename (../../study1/study1_eeg/epochdata/P-15.fif) does not conform to MNE naming conventions. All epochs files should end with -epo.fif, -epo.fif.gz, _epo.fif or _epo.fif.gz\n",
      "  epochs = [mne.read_epochs(f, verbose=False) for f in files]\n",
      "<ipython-input-4-e3b81b844133>:1: RuntimeWarning: This filename (../../study1/study1_eeg/epochdata/P-01.fif) does not conform to MNE naming conventions. All epochs files should end with -epo.fif, -epo.fif.gz, _epo.fif or _epo.fif.gz\n",
      "  epochs = [mne.read_epochs(f, verbose=False) for f in files]\n",
      "<ipython-input-4-e3b81b844133>:1: RuntimeWarning: This filename (../../study1/study1_eeg/epochdata/P-14.fif) does not conform to MNE naming conventions. All epochs files should end with -epo.fif, -epo.fif.gz, _epo.fif or _epo.fif.gz\n",
      "  epochs = [mne.read_epochs(f, verbose=False) for f in files]\n",
      "<ipython-input-4-e3b81b844133>:1: RuntimeWarning: This filename (../../study1/study1_eeg/epochdata/P-02.fif) does not conform to MNE naming conventions. All epochs files should end with -epo.fif, -epo.fif.gz, _epo.fif or _epo.fif.gz\n",
      "  epochs = [mne.read_epochs(f, verbose=False) for f in files]\n",
      "<ipython-input-4-e3b81b844133>:1: RuntimeWarning: This filename (../../study1/study1_eeg/epochdata/P-16.fif) does not conform to MNE naming conventions. All epochs files should end with -epo.fif, -epo.fif.gz, _epo.fif or _epo.fif.gz\n",
      "  epochs = [mne.read_epochs(f, verbose=False) for f in files]\n",
      "<ipython-input-4-e3b81b844133>:1: RuntimeWarning: This filename (../../study1/study1_eeg/epochdata/P-17.fif) does not conform to MNE naming conventions. All epochs files should end with -epo.fif, -epo.fif.gz, _epo.fif or _epo.fif.gz\n",
      "  epochs = [mne.read_epochs(f, verbose=False) for f in files]\n",
      "<ipython-input-4-e3b81b844133>:1: RuntimeWarning: This filename (../../study1/study1_eeg/epochdata/P-03.fif) does not conform to MNE naming conventions. All epochs files should end with -epo.fif, -epo.fif.gz, _epo.fif or _epo.fif.gz\n",
      "  epochs = [mne.read_epochs(f, verbose=False) for f in files]\n",
      "<ipython-input-4-e3b81b844133>:1: RuntimeWarning: This filename (../../study1/study1_eeg/epochdata/P-07.fif) does not conform to MNE naming conventions. All epochs files should end with -epo.fif, -epo.fif.gz, _epo.fif or _epo.fif.gz\n",
      "  epochs = [mne.read_epochs(f, verbose=False) for f in files]\n",
      "<ipython-input-4-e3b81b844133>:1: RuntimeWarning: This filename (../../study1/study1_eeg/epochdata/P-13.fif) does not conform to MNE naming conventions. All epochs files should end with -epo.fif, -epo.fif.gz, _epo.fif or _epo.fif.gz\n",
      "  epochs = [mne.read_epochs(f, verbose=False) for f in files]\n",
      "<ipython-input-4-e3b81b844133>:1: RuntimeWarning: This filename (../../study1/study1_eeg/epochdata/P-12.fif) does not conform to MNE naming conventions. All epochs files should end with -epo.fif, -epo.fif.gz, _epo.fif or _epo.fif.gz\n",
      "  epochs = [mne.read_epochs(f, verbose=False) for f in files]\n",
      "<ipython-input-4-e3b81b844133>:1: RuntimeWarning: This filename (../../study1/study1_eeg/epochdata/P-06.fif) does not conform to MNE naming conventions. All epochs files should end with -epo.fif, -epo.fif.gz, _epo.fif or _epo.fif.gz\n",
      "  epochs = [mne.read_epochs(f, verbose=False) for f in files]\n",
      "<ipython-input-4-e3b81b844133>:1: RuntimeWarning: This filename (../../study1/study1_eeg/epochdata/P-10.fif) does not conform to MNE naming conventions. All epochs files should end with -epo.fif, -epo.fif.gz, _epo.fif or _epo.fif.gz\n",
      "  epochs = [mne.read_epochs(f, verbose=False) for f in files]\n",
      "<ipython-input-4-e3b81b844133>:1: RuntimeWarning: This filename (../../study1/study1_eeg/epochdata/P-04.fif) does not conform to MNE naming conventions. All epochs files should end with -epo.fif, -epo.fif.gz, _epo.fif or _epo.fif.gz\n",
      "  epochs = [mne.read_epochs(f, verbose=False) for f in files]\n",
      "<ipython-input-4-e3b81b844133>:1: RuntimeWarning: This filename (../../study1/study1_eeg/epochdata/P-05.fif) does not conform to MNE naming conventions. All epochs files should end with -epo.fif, -epo.fif.gz, _epo.fif or _epo.fif.gz\n",
      "  epochs = [mne.read_epochs(f, verbose=False) for f in files]\n",
      "<ipython-input-4-e3b81b844133>:1: RuntimeWarning: This filename (../../study1/study1_eeg/epochdata/P-11.fif) does not conform to MNE naming conventions. All epochs files should end with -epo.fif, -epo.fif.gz, _epo.fif or _epo.fif.gz\n",
      "  epochs = [mne.read_epochs(f, verbose=False) for f in files]\n",
      "<ipython-input-4-e3b81b844133>:1: RuntimeWarning: This filename (../../study1/study1_eeg/epochdata/P-20.fif) does not conform to MNE naming conventions. All epochs files should end with -epo.fif, -epo.fif.gz, _epo.fif or _epo.fif.gz\n",
      "  epochs = [mne.read_epochs(f, verbose=False) for f in files]\n",
      "<ipython-input-4-e3b81b844133>:1: RuntimeWarning: This filename (../../study1/study1_eeg/epochdata/P-08.fif) does not conform to MNE naming conventions. All epochs files should end with -epo.fif, -epo.fif.gz, _epo.fif or _epo.fif.gz\n",
      "  epochs = [mne.read_epochs(f, verbose=False) for f in files]\n",
      "<ipython-input-4-e3b81b844133>:1: RuntimeWarning: This filename (../../study1/study1_eeg/epochdata/P-09.fif) does not conform to MNE naming conventions. All epochs files should end with -epo.fif, -epo.fif.gz, _epo.fif or _epo.fif.gz\n",
      "  epochs = [mne.read_epochs(f, verbose=False) for f in files]\n",
      "<ipython-input-4-e3b81b844133>:1: RuntimeWarning: This filename (../../study1/study1_eeg/epochdata/P-21.fif) does not conform to MNE naming conventions. All epochs files should end with -epo.fif, -epo.fif.gz, _epo.fif or _epo.fif.gz\n",
      "  epochs = [mne.read_epochs(f, verbose=False) for f in files]\n",
      "<ipython-input-4-e3b81b844133>:1: RuntimeWarning: This filename (../../study1/study1_eeg/epochdata/P-23.fif) does not conform to MNE naming conventions. All epochs files should end with -epo.fif, -epo.fif.gz, _epo.fif or _epo.fif.gz\n",
      "  epochs = [mne.read_epochs(f, verbose=False) for f in files]\n",
      "<ipython-input-4-e3b81b844133>:1: RuntimeWarning: This filename (../../study1/study1_eeg/epochdata/P-22.fif) does not conform to MNE naming conventions. All epochs files should end with -epo.fif, -epo.fif.gz, _epo.fif or _epo.fif.gz\n",
      "  epochs = [mne.read_epochs(f, verbose=False) for f in files]\n",
      "<ipython-input-4-e3b81b844133>:1: RuntimeWarning: This filename (../../study1/study1_eeg/epochdata/P-26.fif) does not conform to MNE naming conventions. All epochs files should end with -epo.fif, -epo.fif.gz, _epo.fif or _epo.fif.gz\n",
      "  epochs = [mne.read_epochs(f, verbose=False) for f in files]\n",
      "<ipython-input-4-e3b81b844133>:1: RuntimeWarning: This filename (../../study1/study1_eeg/epochdata/P-27.fif) does not conform to MNE naming conventions. All epochs files should end with -epo.fif, -epo.fif.gz, _epo.fif or _epo.fif.gz\n",
      "  epochs = [mne.read_epochs(f, verbose=False) for f in files]\n",
      "<ipython-input-4-e3b81b844133>:1: RuntimeWarning: This filename (../../study1/study1_eeg/epochdata/P-24.fif) does not conform to MNE naming conventions. All epochs files should end with -epo.fif, -epo.fif.gz, _epo.fif or _epo.fif.gz\n",
      "  epochs = [mne.read_epochs(f, verbose=False) for f in files]\n",
      "<ipython-input-4-e3b81b844133>:1: RuntimeWarning: This filename (../../study1/study1_eeg/epochdata/P-18.fif) does not conform to MNE naming conventions. All epochs files should end with -epo.fif, -epo.fif.gz, _epo.fif or _epo.fif.gz\n",
      "  epochs = [mne.read_epochs(f, verbose=False) for f in files]\n"
     ]
    }
   ],
   "source": [
    "epochs = [mne.read_epochs(f, verbose=False) for f in files]\n",
    "epochs_UN = [e['FU', 'FN'] for e in epochs]\n",
    "epochs_UP = [e['FU', 'FP'] for e in epochs]\n",
    "epochs_NP = [e['FN', 'FP'] for e in epochs]\n",
    "# Dataset with unpleasant and neutral events\n",
    "data_UN = [e.get_data() for e in epochs_UN]\n",
    "labels_UN = [e.events[:,-1] for e in epochs_UN]\n",
    "\n",
    "data_UP = [e.get_data() for e in epochs_UP]\n",
    "labels_UP = [e.events[:,-1] for e in epochs_UP]\n",
    "\n",
    "data_NP = [e.get_data() for e in epochs_NP]\n",
    "labels_NP = [e.events[:,-1] for e in epochs_NP]"
   ]
  },
  {
   "cell_type": "markdown",
   "metadata": {},
   "source": [
    "2. Train classifiers with sliding window estimator on data of each participant separately."
   ]
  },
  {
   "cell_type": "code",
   "execution_count": null,
   "metadata": {},
   "outputs": [],
   "source": [
    "def applyCrossValidation(data, labels, epochs, classifier):\n",
    "    CV_score_time = []\n",
    "    for i in range(len(data)):\n",
    "        sl = SlidingEstimator(classifier, scoring='accuracy') \n",
    "        if np.isfinite(data).all() == True and np.isnan(data).any() == False:\n",
    "            cvs_tmp = cross_val_multiscore(sl, data, labels, cv=3)\n",
    "            CV_score_time.append(cvs_tmp)\n",
    "            plotCVScores(epochs.times, cvs_tmp)\n",
    "        else:\n",
    "            print('Input contains NaN or infinity!')\n",
    "    return CV_score_time"
   ]
  },
  {
   "cell_type": "markdown",
   "metadata": {},
   "source": [
    "#### Classification Between Unplesant and Neutral Events"
   ]
  },
  {
   "cell_type": "code",
   "execution_count": null,
   "metadata": {},
   "outputs": [],
   "source": [
    "for i in range(len(data_UN)):\n",
    "    clf = make_pipeline(Vectorizer(), StandardScaler(), LinearDiscriminantAnalysis(solver='svd'))\n",
    "    CV_score_time_UN = applyCrossValidation(data_UN[i], labels_UN[i], epochs_UN[i], clf)"
   ]
  },
  {
   "cell_type": "code",
   "execution_count": null,
   "metadata": {},
   "outputs": [],
   "source": [
    "print(CV_score_time_UN)"
   ]
  },
  {
   "cell_type": "code",
   "execution_count": null,
   "metadata": {},
   "outputs": [],
   "source": [
    "def averageCVScores(CV_score_time):\n",
    "    avg_cv_scores = []\n",
    "    for cv in CV_score_time:\n",
    "        avg_scores_tmp = []\n",
    "        sum_col_wise = [sum(e) for e in zip(*cv)]\n",
    "        avg_scores_tmp = [s/len(cv) for s in sum_col_wise]\n",
    "        avg_cv_scores.append(avg_scores_tmp)"
   ]
  },
  {
   "cell_type": "code",
   "execution_count": null,
   "metadata": {},
   "outputs": [],
   "source": [
    "avg_cv_score_time = averageCVScores(CV_score_time_UN)"
   ]
  },
  {
   "cell_type": "code",
   "execution_count": null,
   "metadata": {},
   "outputs": [],
   "source": [
    "NUM_COLORS = len(avg_cv_scores)\n",
    "cm = plt.get_cmap('gist_rainbow')\n",
    "fig = plt.figure(figsize=(15, 10))\n",
    "ax = fig.add_subplot(111)\n",
    "ax.set_prop_cycle(color=[cm(1.*i/NUM_COLORS) for i in range(NUM_COLORS)])\n",
    "ax.set_ylabel('Mean CV Accuracy')\n",
    "ax.set_xlabel('Times')\n",
    "for i in range(NUM_COLORS):\n",
    "    ax.plot(epochs_UN[i].times, avg_cv_scores[i], label=str(ids[i]))\n",
    "ax.legend(bbox_to_anchor=(1.1, 1.05))\n",
    "plt.show()"
   ]
  },
  {
   "cell_type": "code",
   "execution_count": null,
   "metadata": {},
   "outputs": [],
   "source": []
  }
 ],
 "metadata": {
  "kernelspec": {
   "display_name": "Python 3",
   "language": "python",
   "name": "python3"
  },
  "language_info": {
   "codemirror_mode": {
    "name": "ipython",
    "version": 3
   },
   "file_extension": ".py",
   "mimetype": "text/x-python",
   "name": "python",
   "nbconvert_exporter": "python",
   "pygments_lexer": "ipython3",
   "version": "3.7.1"
  }
 },
 "nbformat": 4,
 "nbformat_minor": 2
}
