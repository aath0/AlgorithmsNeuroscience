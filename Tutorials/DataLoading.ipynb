{
 "cells": [
  {
   "cell_type": "markdown",
   "metadata": {},
   "source": [
    "## Tutorial #1: Loading EEG Data"
   ]
  },
  {
   "cell_type": "markdown",
   "metadata": {},
   "source": [
    "#### This tutorial focuses on loading EEG data in several different ways.  "
   ]
  },
  {
   "cell_type": "markdown",
   "metadata": {},
   "source": [
    "In order to load EEG data, MNE package will be used throughout this tutorial. MNE is an open-source Python package for exploring, visualizing, and analyzing human neurophysiological data. "
   ]
  },
  {
   "cell_type": "markdown",
   "metadata": {},
   "source": [
    "EEG data can be kept in 3 different types: raw data, epoched data and evoked (averaged) data.\n",
    "\n",
    "1. Raw Data: Continues data is stored in raw object in MNE. A raw object has 2D array structure as channels×time.\n",
    "   \n",
    "2. Epoched Data: Collection of time-locked trials. It is stored as events×channels×times.\n",
    "\n",
    "3. Evoked Data: When epoched data is averaged out over trials, evoked data is produced. The output is time-locked to the event. It is stored as channels×times."
   ]
  },
  {
   "cell_type": "code",
   "execution_count": null,
   "metadata": {},
   "outputs": [],
   "source": [
    "# For elimiating warnings\n",
    "import warnings\n",
    "warnings.filterwarnings('ignore')"
   ]
  },
  {
   "cell_type": "code",
   "execution_count": 2,
   "metadata": {},
   "outputs": [],
   "source": [
    "import mne"
   ]
  },
  {
   "cell_type": "markdown",
   "metadata": {},
   "source": [
    "### 1.1) Loading datasets available in MNE: EEGBCI motor imagery Dataset\n"
   ]
  },
  {
   "cell_type": "markdown",
   "metadata": {},
   "source": [
    "EEGBI motor imagery dataset is available in MNE package. The dataset contains 64-channel EEG recordings from 109 subjects and 14 runs on each subject in EDF+ format. For more details please check https://www.nmr.mgh.harvard.edu/mne/stable/manual/datasets_index.html#eegbci-motor-imagery. "
   ]
  },
  {
   "cell_type": "markdown",
   "metadata": {},
   "source": [
    "In order to load an available dataset in MNE, subject id or a list of subject ids, a list of runs (tasks) and path to locate data should be provided as arguments to load_data() function. \n",
    "\n",
    "load_data() function returns a list of paths that the requested data files located. By using read_raw_edf() function read downloaded edf files and lastly concatenate the raw data in each edf file to have the final dataset with all the selected runs."
   ]
  },
  {
   "cell_type": "code",
   "execution_count": 15,
   "metadata": {},
   "outputs": [
    {
     "name": "stdout",
     "output_type": "stream",
     "text": [
      "Extracting EDF parameters from /Users/scg/Desktop/AlgorithmsNeuroscience/datasets/MNE-eegbci-data/physiobank/database/eegmmidb/S001/S001R06.edf...\n",
      "EDF file detected\n",
      "Setting channel info structure...\n",
      "Creating raw.info structure...\n",
      "Reading 0 ... 19999  =      0.000 ...   124.994 secs...\n",
      "Extracting EDF parameters from /Users/scg/Desktop/AlgorithmsNeuroscience/datasets/MNE-eegbci-data/physiobank/database/eegmmidb/S001/S001R10.edf...\n",
      "EDF file detected\n",
      "Setting channel info structure...\n",
      "Creating raw.info structure...\n",
      "Reading 0 ... 19999  =      0.000 ...   124.994 secs...\n",
      "Extracting EDF parameters from /Users/scg/Desktop/AlgorithmsNeuroscience/datasets/MNE-eegbci-data/physiobank/database/eegmmidb/S001/S001R14.edf...\n",
      "EDF file detected\n",
      "Setting channel info structure...\n",
      "Creating raw.info structure...\n",
      "Reading 0 ... 19999  =      0.000 ...   124.994 secs...\n"
     ]
    }
   ],
   "source": [
    "from mne.datasets import eegbci\n",
    "from mne.io import concatenate_raws, read_raw_edf\n",
    "\n",
    "#Define the parameters \n",
    "subject = 1  # use data from subject 1\n",
    "runs = [6, 10, 14]  # use only hand and feet motor imagery runs\n",
    "\n",
    "#Get data and locate in to given path\n",
    "files = eegbci.load_data(subject, runs, '../datasets/')\n",
    "#Read raw data files where each file contains a run\n",
    "raws = [read_raw_edf(f, preload=True) for f in files]\n",
    "#Combine all loaded runs\n",
    "raw_obj = concatenate_raws(raws)"
   ]
  },
  {
   "cell_type": "markdown",
   "metadata": {},
   "source": [
    "All data structures such as raw and epochs in mne have an attribute named 'info' which provides measurement related information about given data.  "
   ]
  },
  {
   "cell_type": "code",
   "execution_count": 16,
   "metadata": {},
   "outputs": [
    {
     "data": {
      "text/plain": [
       "<Info | 16 non-empty fields\n",
       "    bads : list | 0 items\n",
       "    ch_names : list | Fc5., Fc3., Fc1., Fcz., Fc2., Fc4., Fc6., C5.., C3.., ...\n",
       "    chs : list | 64 items (EEG: 64)\n",
       "    comps : list | 0 items\n",
       "    custom_ref_applied : bool | False\n",
       "    dev_head_t : Transform | 3 items\n",
       "    events : list | 0 items\n",
       "    highpass : float | 0.0 Hz\n",
       "    hpi_meas : list | 0 items\n",
       "    hpi_results : list | 0 items\n",
       "    lowpass : float | 80.0 Hz\n",
       "    meas_date : tuple | 2009-08-12 16:15:00 GMT\n",
       "    nchan : int | 64\n",
       "    proc_history : list | 0 items\n",
       "    projs : list | 0 items\n",
       "    sfreq : float | 160.0 Hz\n",
       "    acq_pars : NoneType\n",
       "    acq_stim : NoneType\n",
       "    ctf_head_t : NoneType\n",
       "    description : NoneType\n",
       "    dev_ctf_t : NoneType\n",
       "    dig : NoneType\n",
       "    experimenter : NoneType\n",
       "    file_id : NoneType\n",
       "    gantry_angle : NoneType\n",
       "    hpi_subsystem : NoneType\n",
       "    kit_system_id : NoneType\n",
       "    line_freq : NoneType\n",
       "    meas_id : NoneType\n",
       "    proj_id : NoneType\n",
       "    proj_name : NoneType\n",
       "    subject_info : NoneType\n",
       "    xplotter_layout : NoneType\n",
       ">"
      ]
     },
     "execution_count": 16,
     "metadata": {},
     "output_type": "execute_result"
    }
   ],
   "source": [
    "raw_obj.info"
   ]
  },
  {
   "cell_type": "markdown",
   "metadata": {},
   "source": [
    "As mentioned at the beginning of the tutorial, raw type stores the data in 2D array format as channels×samples. The data can be accessed as following:"
   ]
  },
  {
   "cell_type": "code",
   "execution_count": 17,
   "metadata": {},
   "outputs": [
    {
     "name": "stdout",
     "output_type": "stream",
     "text": [
      "Number of channels:  64\n",
      "Number of samples:  60000\n"
     ]
    }
   ],
   "source": [
    "raw_data = raw_obj.get_data()\n",
    "\n",
    "# OR\n",
    "\n",
    "raw_data = raw_obj._data\n",
    "\n",
    "print(\"Number of channels: \", str(len(raw_data)))\n",
    "print(\"Number of samples: \", str(len(raw_data[0])))"
   ]
  },
  {
   "cell_type": "markdown",
   "metadata": {},
   "source": [
    "##### Converting Raw data to Epoched data"
   ]
  },
  {
   "cell_type": "markdown",
   "metadata": {},
   "source": [
    "For the conversion, events in the data should be extracted firstly. If the data is annotated, then the events can be extracted easily by event_from_annotations() function of MNE. It returns both events and event ids.  "
   ]
  },
  {
   "cell_type": "code",
   "execution_count": 19,
   "metadata": {},
   "outputs": [
    {
     "name": "stdout",
     "output_type": "stream",
     "text": [
      "Used Annotations descriptions: ['T0', 'T1', 'T2']\n"
     ]
    },
    {
     "data": {
      "text/plain": [
       "{'T0': 1, 'T1': 2, 'T2': 3}"
      ]
     },
     "execution_count": 19,
     "metadata": {},
     "output_type": "execute_result"
    }
   ],
   "source": [
    "#Extract events from raw data\n",
    "events, event_ids = mne.events_from_annotations(raw_obj, event_id='auto')\n",
    "event_ids"
   ]
  },
  {
   "cell_type": "markdown",
   "metadata": {},
   "source": [
    "To be able to define epochs, a time interval should be selected. tmin and tmax represents the beginning and the end of selected time interval (in seconds). This selection may differ, depending on the experiment. If the reponse to the given stimuli is expected to happen quickly, then a narrow time interval may be needed and vice versa. For example if an experiment is being conducted by showing pictures, then the reponses can be observed quickly. However when imagination is required during experiment, then a larger time interval may be needed to capture the whole response. "
   ]
  },
  {
   "cell_type": "code",
   "execution_count": 22,
   "metadata": {},
   "outputs": [
    {
     "name": "stdout",
     "output_type": "stream",
     "text": [
      "90 matching events found\n",
      "No baseline correction applied\n",
      "Not setting metadata\n",
      "0 projection items activated\n",
      "Loading data for 90 events and 961 original time points ...\n",
      "3 bad epochs dropped\n"
     ]
    }
   ],
   "source": [
    "tmin, tmax = -1, 4  # define epochs around events (in s)\n",
    "#event_ids = dict(hands=2, feet=3)  # map event IDs to tasks\n",
    "\n",
    "epochs = mne.Epochs(raw_obj, events, event_ids, tmin - 0.5, tmax + 0.5, baseline=None, preload=True)"
   ]
  },
  {
   "cell_type": "markdown",
   "metadata": {},
   "source": [
    "Accessing data of an epochs object is being done by the same ways as for raw objcets."
   ]
  },
  {
   "cell_type": "code",
   "execution_count": 107,
   "metadata": {},
   "outputs": [
    {
     "name": "stdout",
     "output_type": "stream",
     "text": [
      "Number of events: 189\n",
      "Number of channels: 60\n",
      "Number of time instances: 301\n"
     ]
    }
   ],
   "source": [
    "#Access to the data\n",
    "data = epochs._data\n",
    "\n",
    "n_events = len(data) # or len(epochs.events)\n",
    "print(\"Number of events: \" + str(n_events)) \n",
    "\n",
    "n_channels = len(data[0,:]) # or len(epochs.ch_names)\n",
    "print(\"Number of channels: \" + str(n_channels))\n",
    "\n",
    "n_times = len(data[0,0,:]) # or len(epochs.times)\n",
    "print(\"Number of time instances: \" + str(n_times))"
   ]
  },
  {
   "cell_type": "markdown",
   "metadata": {},
   "source": [
    "### 1.2) Loading data that is not available in MNE"
   ]
  },
  {
   "cell_type": "markdown",
   "metadata": {},
   "source": [
    "If a dataset apart from MNE datasets is preferred, it can be loaded directly from given path. \n",
    "read_epoch() function can be used for reading epoched data from file. "
   ]
  },
  {
   "cell_type": "code",
   "execution_count": 4,
   "metadata": {},
   "outputs": [
    {
     "name": "stdout",
     "output_type": "stream",
     "text": [
      "Reading ../datasets/817_1_PDDys_ODDBALL_Clean_curated-epo.fif ...\n",
      "    Found the data of interest:\n",
      "        t =    -100.00 ...     500.00 ms\n",
      "        0 CTF compensation matrices available\n",
      "189 matching events found\n",
      "No baseline correction applied\n",
      "Not setting metadata\n",
      "0 projection items activated\n",
      "189\n"
     ]
    }
   ],
   "source": [
    "## Loading Epoched data \n",
    "\n",
    "# The file name should end with'epo' to be able to load it via mne\n",
    "data_file = '../datasets/817_1_PDDys_ODDBALL_Clean_curated-epo'\n",
    "\n",
    "# Read the EEG epochs:\n",
    "epochs = mne.read_epochs(data_file + '.fif')\n",
    "print(len(epochs))"
   ]
  },
  {
   "cell_type": "code",
   "execution_count": 24,
   "metadata": {},
   "outputs": [
    {
     "data": {
      "text/plain": [
       "<Info | 19 non-empty fields\n",
       "    bads : list | 0 items\n",
       "    ch_names : list | Fp1, Fz, F3, F7, FC5, FC1, C3, T7, CP5, ...\n",
       "    chs : list | 60 items (EEG: 60)\n",
       "    comps : list | 0 items\n",
       "    custom_ref_applied : bool | False\n",
       "    dev_head_t : Transform | 3 items\n",
       "    dig : list | 60 items (60 EEG)\n",
       "    events : list | 0 items\n",
       "    file_id : dict | 4 items\n",
       "    highpass : float | 0.0 Hz\n",
       "    hpi_meas : list | 0 items\n",
       "    hpi_results : list | 0 items\n",
       "    lowpass : float | 250.0 Hz\n",
       "    meas_date : NoneType | unspecified\n",
       "    meas_id : dict | 4 items\n",
       "    nchan : int | 60\n",
       "    proc_history : list | 0 items\n",
       "    projs : list | 0 items\n",
       "    sfreq : float | 500.0 Hz\n",
       "    acq_pars : NoneType\n",
       "    acq_stim : NoneType\n",
       "    ctf_head_t : NoneType\n",
       "    description : NoneType\n",
       "    dev_ctf_t : NoneType\n",
       "    experimenter : NoneType\n",
       "    gantry_angle : NoneType\n",
       "    hpi_subsystem : NoneType\n",
       "    kit_system_id : NoneType\n",
       "    line_freq : NoneType\n",
       "    proj_id : NoneType\n",
       "    proj_name : NoneType\n",
       "    subject_info : NoneType\n",
       "    xplotter_layout : NoneType\n",
       ">"
      ]
     },
     "execution_count": 24,
     "metadata": {},
     "output_type": "execute_result"
    }
   ],
   "source": [
    "epochs.info"
   ]
  },
  {
   "cell_type": "markdown",
   "metadata": {},
   "source": [
    "Data can be accessed as in the following cell."
   ]
  },
  {
   "cell_type": "code",
   "execution_count": 29,
   "metadata": {},
   "outputs": [
    {
     "name": "stdout",
     "output_type": "stream",
     "text": [
      "Output: Same data!\n"
     ]
    }
   ],
   "source": [
    "## Accessing to the data\n",
    "\n",
    "# The data can be accessed via:\n",
    "epochs_data_1 = epochs._data\n",
    "#or \n",
    "epochs_data_2 = epochs.get_data()\n",
    "\n",
    "#To check whether the two different ways returns the same data\n",
    "if epochs_data_1.all() == epochs_data_2.all():\n",
    "    print(\"Output: Same data!\")\n",
    "else:\n",
    "    print(\"Output: Data is not the same!\")\n",
    "        "
   ]
  },
  {
   "cell_type": "markdown",
   "metadata": {},
   "source": [
    "event_id attribute keeps names of all the conditions in given data and number of events in each condition"
   ]
  },
  {
   "cell_type": "code",
   "execution_count": 27,
   "metadata": {},
   "outputs": [
    {
     "data": {
      "text/plain": [
       "{'Standard': 201, 'Target': 200, 'Novel': 202}"
      ]
     },
     "execution_count": 27,
     "metadata": {},
     "output_type": "execute_result"
    }
   ],
   "source": [
    "epochs.event_id"
   ]
  },
  {
   "cell_type": "markdown",
   "metadata": {},
   "source": [
    "Accessing to data with a specific event condition can be done as following:"
   ]
  },
  {
   "cell_type": "code",
   "execution_count": 30,
   "metadata": {},
   "outputs": [],
   "source": [
    "novels = epochs['Novel']"
   ]
  },
  {
   "cell_type": "code",
   "execution_count": 31,
   "metadata": {},
   "outputs": [
    {
     "name": "stdout",
     "output_type": "stream",
     "text": [
      "Start time before the event -0.1\n",
      "Stop time after the event 0.5\n"
     ]
    }
   ],
   "source": [
    "tmin = epochs.tmin\n",
    "tmax = epochs.tmax\n",
    "\n",
    "print('Start time before the event' , tmin)\n",
    "print('Stop time after the event' , tmax)"
   ]
  },
  {
   "cell_type": "markdown",
   "metadata": {},
   "source": [
    "##### Get evoked data from epoched data"
   ]
  },
  {
   "cell_type": "markdown",
   "metadata": {},
   "source": [
    "Evoked Potential is produced by averaging the epochs. If the data is type of eeg, then evoked data corresponds to ERP (Event Related Potential).  "
   ]
  },
  {
   "cell_type": "code",
   "execution_count": 4,
   "metadata": {},
   "outputs": [
    {
     "data": {
      "text/plain": [
       "<Info | 19 non-empty fields\n",
       "    bads : list | 0 items\n",
       "    ch_names : list | Fp1, Fz, F3, F7, FC5, FC1, C3, T7, CP5, ...\n",
       "    chs : list | 60 items (EEG: 60)\n",
       "    comps : list | 0 items\n",
       "    custom_ref_applied : bool | False\n",
       "    dev_head_t : Transform | 3 items\n",
       "    dig : list | 60 items (60 EEG)\n",
       "    events : list | 0 items\n",
       "    file_id : dict | 4 items\n",
       "    highpass : float | 0.0 Hz\n",
       "    hpi_meas : list | 0 items\n",
       "    hpi_results : list | 0 items\n",
       "    lowpass : float | 250.0 Hz\n",
       "    meas_date : NoneType | unspecified\n",
       "    meas_id : dict | 4 items\n",
       "    nchan : int | 60\n",
       "    proc_history : list | 0 items\n",
       "    projs : list | 0 items\n",
       "    sfreq : float | 500.0 Hz\n",
       "    acq_pars : NoneType\n",
       "    acq_stim : NoneType\n",
       "    ctf_head_t : NoneType\n",
       "    description : NoneType\n",
       "    dev_ctf_t : NoneType\n",
       "    experimenter : NoneType\n",
       "    gantry_angle : NoneType\n",
       "    hpi_subsystem : NoneType\n",
       "    kit_system_id : NoneType\n",
       "    line_freq : NoneType\n",
       "    proj_id : NoneType\n",
       "    proj_name : NoneType\n",
       "    subject_info : NoneType\n",
       "    xplotter_layout : NoneType\n",
       ">"
      ]
     },
     "execution_count": 4,
     "metadata": {},
     "output_type": "execute_result"
    }
   ],
   "source": [
    "evoked = epochs.average()\n",
    "evoked.info"
   ]
  },
  {
   "cell_type": "markdown",
   "metadata": {},
   "source": [
    "Number of epochs that are used for averaging is kept in nave attribute of evoked object."
   ]
  },
  {
   "cell_type": "code",
   "execution_count": 33,
   "metadata": {},
   "outputs": [
    {
     "data": {
      "text/plain": [
       "189"
      ]
     },
     "execution_count": 33,
     "metadata": {},
     "output_type": "execute_result"
    }
   ],
   "source": [
    "evoked.nave"
   ]
  },
  {
   "cell_type": "code",
   "execution_count": 5,
   "metadata": {},
   "outputs": [
    {
     "name": "stdout",
     "output_type": "stream",
     "text": [
      "Number of channels: 60\n",
      "Number of time instances: 301\n"
     ]
    }
   ],
   "source": [
    "evoked_data = evoked.data\n",
    "n_channels = len(evoked_data) # or len(evoked.ch_names)\n",
    "print(\"Number of channels: \" + str(n_channels))\n",
    "\n",
    "n_times = len(evoked_data[0,:]) # or len(evoked.times)\n",
    "print(\"Number of time instances: \" + str(n_times))"
   ]
  },
  {
   "cell_type": "markdown",
   "metadata": {},
   "source": [
    "As expected, number of channels and number of time instances do not change when epoched data converted to evoked data since the averaging is done over trials."
   ]
  }
 ],
 "metadata": {
  "kernelspec": {
   "display_name": "Python 3",
   "language": "python",
   "name": "python3"
  },
  "language_info": {
   "codemirror_mode": {
    "name": "ipython",
    "version": 3
   },
   "file_extension": ".py",
   "mimetype": "text/x-python",
   "name": "python",
   "nbconvert_exporter": "python",
   "pygments_lexer": "ipython3",
   "version": "3.7.1"
  }
 },
 "nbformat": 4,
 "nbformat_minor": 2
}
