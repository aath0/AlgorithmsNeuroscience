{
 "cells": [
  {
   "cell_type": "markdown",
   "metadata": {},
   "source": [
    "## Tutorial #5: Applying Machine Learning Methods to EEG Data on Group Level"
   ]
  },
  {
   "cell_type": "markdown",
   "metadata": {},
   "source": [
    "In this tutorial, same classification tasks in Tutorial-4 will be examined but this time analysis will be done on group level."
   ]
  },
  {
   "cell_type": "markdown",
   "metadata": {},
   "source": [
    "##### Dataset: \n",
    "The the previous tutorial data of the only one participant in 'Emotion-Antecedent Appraisal Checks: EEG and EMG data sets for Novelty and Pleasantness' is used. In this tutorial, all participans will be included"
   ]
  },
  {
   "cell_type": "code",
   "execution_count": 16,
   "metadata": {},
   "outputs": [],
   "source": [
    "import mne\n",
    "from os.path import isfile, join\n",
    "from os import listdir\n",
    "import numpy as np\n",
    "from mne.decoding import Vectorizer\n",
    "\n",
    "from sklearn.preprocessing import StandardScaler\n",
    "from sklearn.pipeline import make_pipeline\n",
    "from sklearn.model_selection import cross_val_score, train_test_split, GridSearchCV, StratifiedKFold, cross_val_predict\n",
    "from sklearn.metrics import precision_recall_fscore_support, accuracy_score\n",
    "\n",
    "from scipy import stats\n",
    "\n",
    "# Models\n",
    "from sklearn import svm\n",
    "from sklearn.discriminant_analysis import LinearDiscriminantAnalysis\n",
    "from sklearn.linear_model import LogisticRegression"
   ]
  },
  {
   "cell_type": "code",
   "execution_count": 2,
   "metadata": {},
   "outputs": [
    {
     "name": "stdout",
     "output_type": "stream",
     "text": [
      "[15, 1, 14, 2, 16, 17, 3, 7, 13, 12, 6, 10, 4, 5, 11, 20, 8, 9, 21, 23, 22, 26, 27, 24, 18]\n"
     ]
    },
    {
     "name": "stderr",
     "output_type": "stream",
     "text": [
      "<ipython-input-2-decee834c9f4>:10: RuntimeWarning: This filename (../../study1/study1_eeg/epochdata/P-15.fif) does not conform to MNE naming conventions. All epochs files should end with -epo.fif, -epo.fif.gz, _epo.fif or _epo.fif.gz\n",
      "  epochs = mne.read_epochs(files[f], verbose=False)\n",
      "<ipython-input-2-decee834c9f4>:10: RuntimeWarning: This filename (../../study1/study1_eeg/epochdata/P-01.fif) does not conform to MNE naming conventions. All epochs files should end with -epo.fif, -epo.fif.gz, _epo.fif or _epo.fif.gz\n",
      "  epochs = mne.read_epochs(files[f], verbose=False)\n",
      "<ipython-input-2-decee834c9f4>:10: RuntimeWarning: This filename (../../study1/study1_eeg/epochdata/P-14.fif) does not conform to MNE naming conventions. All epochs files should end with -epo.fif, -epo.fif.gz, _epo.fif or _epo.fif.gz\n",
      "  epochs = mne.read_epochs(files[f], verbose=False)\n",
      "<ipython-input-2-decee834c9f4>:10: RuntimeWarning: This filename (../../study1/study1_eeg/epochdata/P-02.fif) does not conform to MNE naming conventions. All epochs files should end with -epo.fif, -epo.fif.gz, _epo.fif or _epo.fif.gz\n",
      "  epochs = mne.read_epochs(files[f], verbose=False)\n",
      "<ipython-input-2-decee834c9f4>:10: RuntimeWarning: This filename (../../study1/study1_eeg/epochdata/P-16.fif) does not conform to MNE naming conventions. All epochs files should end with -epo.fif, -epo.fif.gz, _epo.fif or _epo.fif.gz\n",
      "  epochs = mne.read_epochs(files[f], verbose=False)\n",
      "<ipython-input-2-decee834c9f4>:10: RuntimeWarning: This filename (../../study1/study1_eeg/epochdata/P-17.fif) does not conform to MNE naming conventions. All epochs files should end with -epo.fif, -epo.fif.gz, _epo.fif or _epo.fif.gz\n",
      "  epochs = mne.read_epochs(files[f], verbose=False)\n",
      "<ipython-input-2-decee834c9f4>:10: RuntimeWarning: This filename (../../study1/study1_eeg/epochdata/P-03.fif) does not conform to MNE naming conventions. All epochs files should end with -epo.fif, -epo.fif.gz, _epo.fif or _epo.fif.gz\n",
      "  epochs = mne.read_epochs(files[f], verbose=False)\n",
      "<ipython-input-2-decee834c9f4>:10: RuntimeWarning: This filename (../../study1/study1_eeg/epochdata/P-07.fif) does not conform to MNE naming conventions. All epochs files should end with -epo.fif, -epo.fif.gz, _epo.fif or _epo.fif.gz\n",
      "  epochs = mne.read_epochs(files[f], verbose=False)\n",
      "<ipython-input-2-decee834c9f4>:10: RuntimeWarning: This filename (../../study1/study1_eeg/epochdata/P-13.fif) does not conform to MNE naming conventions. All epochs files should end with -epo.fif, -epo.fif.gz, _epo.fif or _epo.fif.gz\n",
      "  epochs = mne.read_epochs(files[f], verbose=False)\n",
      "<ipython-input-2-decee834c9f4>:10: RuntimeWarning: This filename (../../study1/study1_eeg/epochdata/P-12.fif) does not conform to MNE naming conventions. All epochs files should end with -epo.fif, -epo.fif.gz, _epo.fif or _epo.fif.gz\n",
      "  epochs = mne.read_epochs(files[f], verbose=False)\n",
      "<ipython-input-2-decee834c9f4>:10: RuntimeWarning: This filename (../../study1/study1_eeg/epochdata/P-06.fif) does not conform to MNE naming conventions. All epochs files should end with -epo.fif, -epo.fif.gz, _epo.fif or _epo.fif.gz\n",
      "  epochs = mne.read_epochs(files[f], verbose=False)\n",
      "<ipython-input-2-decee834c9f4>:10: RuntimeWarning: This filename (../../study1/study1_eeg/epochdata/P-10.fif) does not conform to MNE naming conventions. All epochs files should end with -epo.fif, -epo.fif.gz, _epo.fif or _epo.fif.gz\n",
      "  epochs = mne.read_epochs(files[f], verbose=False)\n",
      "<ipython-input-2-decee834c9f4>:10: RuntimeWarning: This filename (../../study1/study1_eeg/epochdata/P-04.fif) does not conform to MNE naming conventions. All epochs files should end with -epo.fif, -epo.fif.gz, _epo.fif or _epo.fif.gz\n",
      "  epochs = mne.read_epochs(files[f], verbose=False)\n",
      "<ipython-input-2-decee834c9f4>:10: RuntimeWarning: This filename (../../study1/study1_eeg/epochdata/P-05.fif) does not conform to MNE naming conventions. All epochs files should end with -epo.fif, -epo.fif.gz, _epo.fif or _epo.fif.gz\n",
      "  epochs = mne.read_epochs(files[f], verbose=False)\n",
      "<ipython-input-2-decee834c9f4>:10: RuntimeWarning: This filename (../../study1/study1_eeg/epochdata/P-11.fif) does not conform to MNE naming conventions. All epochs files should end with -epo.fif, -epo.fif.gz, _epo.fif or _epo.fif.gz\n",
      "  epochs = mne.read_epochs(files[f], verbose=False)\n",
      "<ipython-input-2-decee834c9f4>:10: RuntimeWarning: This filename (../../study1/study1_eeg/epochdata/P-20.fif) does not conform to MNE naming conventions. All epochs files should end with -epo.fif, -epo.fif.gz, _epo.fif or _epo.fif.gz\n",
      "  epochs = mne.read_epochs(files[f], verbose=False)\n",
      "<ipython-input-2-decee834c9f4>:10: RuntimeWarning: This filename (../../study1/study1_eeg/epochdata/P-08.fif) does not conform to MNE naming conventions. All epochs files should end with -epo.fif, -epo.fif.gz, _epo.fif or _epo.fif.gz\n",
      "  epochs = mne.read_epochs(files[f], verbose=False)\n",
      "<ipython-input-2-decee834c9f4>:10: RuntimeWarning: This filename (../../study1/study1_eeg/epochdata/P-09.fif) does not conform to MNE naming conventions. All epochs files should end with -epo.fif, -epo.fif.gz, _epo.fif or _epo.fif.gz\n",
      "  epochs = mne.read_epochs(files[f], verbose=False)\n",
      "<ipython-input-2-decee834c9f4>:10: RuntimeWarning: This filename (../../study1/study1_eeg/epochdata/P-21.fif) does not conform to MNE naming conventions. All epochs files should end with -epo.fif, -epo.fif.gz, _epo.fif or _epo.fif.gz\n",
      "  epochs = mne.read_epochs(files[f], verbose=False)\n",
      "<ipython-input-2-decee834c9f4>:10: RuntimeWarning: This filename (../../study1/study1_eeg/epochdata/P-23.fif) does not conform to MNE naming conventions. All epochs files should end with -epo.fif, -epo.fif.gz, _epo.fif or _epo.fif.gz\n",
      "  epochs = mne.read_epochs(files[f], verbose=False)\n",
      "<ipython-input-2-decee834c9f4>:10: RuntimeWarning: This filename (../../study1/study1_eeg/epochdata/P-22.fif) does not conform to MNE naming conventions. All epochs files should end with -epo.fif, -epo.fif.gz, _epo.fif or _epo.fif.gz\n",
      "  epochs = mne.read_epochs(files[f], verbose=False)\n",
      "<ipython-input-2-decee834c9f4>:10: RuntimeWarning: This filename (../../study1/study1_eeg/epochdata/P-26.fif) does not conform to MNE naming conventions. All epochs files should end with -epo.fif, -epo.fif.gz, _epo.fif or _epo.fif.gz\n",
      "  epochs = mne.read_epochs(files[f], verbose=False)\n",
      "<ipython-input-2-decee834c9f4>:10: RuntimeWarning: This filename (../../study1/study1_eeg/epochdata/P-27.fif) does not conform to MNE naming conventions. All epochs files should end with -epo.fif, -epo.fif.gz, _epo.fif or _epo.fif.gz\n",
      "  epochs = mne.read_epochs(files[f], verbose=False)\n",
      "<ipython-input-2-decee834c9f4>:10: RuntimeWarning: This filename (../../study1/study1_eeg/epochdata/P-24.fif) does not conform to MNE naming conventions. All epochs files should end with -epo.fif, -epo.fif.gz, _epo.fif or _epo.fif.gz\n",
      "  epochs = mne.read_epochs(files[f], verbose=False)\n",
      "<ipython-input-2-decee834c9f4>:10: RuntimeWarning: This filename (../../study1/study1_eeg/epochdata/P-18.fif) does not conform to MNE naming conventions. All epochs files should end with -epo.fif, -epo.fif.gz, _epo.fif or _epo.fif.gz\n",
      "  epochs = mne.read_epochs(files[f], verbose=False)\n"
     ]
    },
    {
     "name": "stdout",
     "output_type": "stream",
     "text": [
      "[[421. 416. 395.]\n",
      " [249. 256. 259.]\n",
      " [363. 364. 379.]\n",
      " [476. 484. 482.]\n",
      " [436. 457. 443.]\n",
      " [319. 328. 325.]\n",
      " [238. 239. 241.]\n",
      " [277. 266. 293.]\n",
      " [229. 223. 260.]\n",
      " [278. 292. 278.]\n",
      " [450. 446. 450.]\n",
      " [441. 453. 448.]\n",
      " [273. 254. 263.]\n",
      " [259. 263. 244.]\n",
      " [410. 414. 410.]\n",
      " [277. 269. 280.]\n",
      " [357. 357. 360.]\n",
      " [192. 183. 209.]\n",
      " [352. 361. 371.]\n",
      " [445. 454. 461.]\n",
      " [266. 262. 266.]\n",
      " [425. 424. 431.]\n",
      " [389. 379. 390.]\n",
      " [471. 476. 481.]\n",
      " [282. 290. 288.]]\n"
     ]
    }
   ],
   "source": [
    "#Load Dataset\n",
    "data_folder = '../../study1/study1_eeg/epochdata/'\n",
    "files = [data_folder+f for f in listdir(data_folder) if isfile(join(data_folder, f))]\n",
    "ids = [int(f[-6:-4]) for f in files]\n",
    "print(ids)\n",
    "numberOfEpochs = np.zeros((len(ids), 3))\n",
    "# Read the EEG epochs:\n",
    "epochs_all_UN, epochs_all_UP, epochs_all_NP = [], [], []\n",
    "for f in range(len(files)):\n",
    "    epochs = mne.read_epochs(files[f], verbose=False)\n",
    "    epochs_UN = epochs['FU', 'FN']\n",
    "    epochs_UP = epochs['FU', 'FP']\n",
    "    epochs_NP = epochs['FN', 'FP']\n",
    "    numberOfEpochs[f,0] = int(len(epochs_UN.events))\n",
    "    numberOfEpochs[f,1] = int(len(epochs_UP.events))\n",
    "    numberOfEpochs[f,2] = int(len(epochs_NP.events))\n",
    "    UN, UP, NP = [ids[f]], [ids[f]], [ids[f]]\n",
    "    UN.append(epochs_UN)\n",
    "    UP.append(epochs_UP)\n",
    "    NP.append(epochs_NP)\n",
    "    epochs_all_UN.append(UN)\n",
    "    epochs_all_UP.append(UP)\n",
    "    epochs_all_NP.append(NP)\n",
    "\n",
    "print(numberOfEpochs)\n",
    "epochs_all_UN = np.array(epochs_all_UN)\n",
    "epochs_all_UP = np.array(epochs_all_UP)\n",
    "epochs_all_NP = np.array(epochs_all_NP)\n"
   ]
  },
  {
   "cell_type": "code",
   "execution_count": 3,
   "metadata": {},
   "outputs": [],
   "source": [
    "accuracies, f1_scores = [], []"
   ]
  },
  {
   "cell_type": "code",
   "execution_count": 15,
   "metadata": {},
   "outputs": [],
   "source": [
    "def getData_labels(epochs):\n",
    "    data, labels, ids = [], [], []\n",
    "    for p in epochs:\n",
    "        tmp_epoch = p[1]\n",
    "        tmp_labels = tmp_epoch.events[:,-1]\n",
    "        labels.extend(tmp_labels)\n",
    "        tmp_id = p[0]\n",
    "        ids.extend([tmp_id]*len(tmp_labels))\n",
    "        '''\n",
    "        tmp_data = tmp_epoch.get_data()\n",
    "        new_data = np.expand_dims(tmp_data, axis=3)\n",
    "        \n",
    "        for i in range(len(tmp_data)):\n",
    "            e = tmp_data[i]\n",
    "            \n",
    "            tmp_id_list = [tmp_id]*len(e)\n",
    "            e = np.expand_dims(e, axis=2)\n",
    "            for a in range(len(e)):\n",
    "                for b in range(len(e[a])): e[a][b][0] = tmp_id\n",
    "            new_data[i] = e\n",
    "        '''\n",
    "        \n",
    "        data.extend(tmp_epoch.get_data())\n",
    "        \n",
    "    data = np.array(data)\n",
    "    labels = np.array(labels)\n",
    "    ids = np.array(ids)\n",
    "    return data, labels, ids"
   ]
  },
  {
   "cell_type": "markdown",
   "metadata": {},
   "source": [
    "### Example #1:  Classification between Unpleasant and Pleasant Events"
   ]
  },
  {
   "cell_type": "code",
   "execution_count": 5,
   "metadata": {},
   "outputs": [
    {
     "name": "stdout",
     "output_type": "stream",
     "text": [
      "5781\n",
      "True\n",
      "False\n"
     ]
    }
   ],
   "source": [
    "from sklearn.impute import SimpleImputer\n",
    "data_UP, labels_UP, ids_UP = getData_labels(epochs_all_UP)\n",
    "imp = SimpleImputer(missing_values=np.nan, strategy='mean')\n",
    "\n",
    "for d in range(len(data_UP)):\n",
    "    if np.all(np.isfinite(data_UP[d])) == False:\n",
    "        print(d)\n",
    "        data_UP[d] = np.nan_to_num(data_UP[d])\n",
    "    if np.any(np.isnan(data_UP[d])) == True:\n",
    "        data_UP[d] = np.nan_to_num(data_UP[d])\n",
    "\n",
    "data_UP = data_UP.astype('float64')\n",
    "labels_UP = labels_UP.astype('float64')"
   ]
  },
  {
   "cell_type": "code",
   "execution_count": 19,
   "metadata": {},
   "outputs": [],
   "source": [
    "def calculate_score_groupLevel(ids, predictions, labels):\n",
    "    print(len(predictions))\n",
    "    print(len(labels))\n",
    "    unique_ids = list(set(ids))\n",
    "    results = []\n",
    "    for id in unique_ids:\n",
    "        res = 0\n",
    "        indices = [i for i, x in enumerate(ids) if x == id]\n",
    "        for i in range(len(indices)):\n",
    "            if predictions[i] == labels[i]:\n",
    "                res += 1\n",
    "        \n",
    "        results.append(res/len(indices))\n",
    "    \n",
    "    accuracy = sum(results)/len(results)\n",
    "    return accuracy"
   ]
  },
  {
   "cell_type": "markdown",
   "metadata": {},
   "source": [
    "Create all models and then run cross validation for all of them for comparing their performances."
   ]
  },
  {
   "cell_type": "code",
   "execution_count": 20,
   "metadata": {},
   "outputs": [],
   "source": [
    "# Linear Discriminant Analysis\n",
    "clf_lda_pip = make_pipeline(Vectorizer(), StandardScaler(), LinearDiscriminantAnalysis(solver='svd'))\n",
    "#Logistic Regression\n",
    "clf_lr_pip = make_pipeline(Vectorizer(), StandardScaler(), LogisticRegression(penalty='l1', random_state=42))\n",
    "\n",
    "models = [clf_lda_pip, clf_lr_pip]\n",
    "model_names = ['LDA', 'LR'] "
   ]
  },
  {
   "cell_type": "code",
   "execution_count": null,
   "metadata": {},
   "outputs": [
    {
     "name": "stdout",
     "output_type": "stream",
     "text": [
      "LDA\n"
     ]
    },
    {
     "name": "stderr",
     "output_type": "stream",
     "text": [
      "/anaconda3/envs/pinar/lib/python3.7/site-packages/numpy/core/fromnumeric.py:90: RuntimeWarning: overflow encountered in reduce\n",
      "  return ufunc.reduce(obj, axis, dtype, out, **passkwargs)\n",
      "/anaconda3/envs/pinar/lib/python3.7/site-packages/numpy/core/fromnumeric.py:90: RuntimeWarning: invalid value encountered in reduce\n",
      "  return ufunc.reduce(obj, axis, dtype, out, **passkwargs)\n",
      "/anaconda3/envs/pinar/lib/python3.7/site-packages/numpy/lib/nanfunctions.py:1545: RuntimeWarning: overflow encountered in multiply\n",
      "  sqr = np.multiply(arr, arr, out=arr)\n",
      "/anaconda3/envs/pinar/lib/python3.7/site-packages/numpy/core/fromnumeric.py:90: RuntimeWarning: overflow encountered in reduce\n",
      "  return ufunc.reduce(obj, axis, dtype, out, **passkwargs)\n",
      "/anaconda3/envs/pinar/lib/python3.7/site-packages/numpy/core/fromnumeric.py:90: RuntimeWarning: invalid value encountered in reduce\n",
      "  return ufunc.reduce(obj, axis, dtype, out, **passkwargs)\n",
      "/anaconda3/envs/pinar/lib/python3.7/site-packages/sklearn/discriminant_analysis.py:388: UserWarning: Variables are collinear.\n",
      "  warnings.warn(\"Variables are collinear.\")\n",
      "/anaconda3/envs/pinar/lib/python3.7/site-packages/numpy/core/fromnumeric.py:90: RuntimeWarning: overflow encountered in reduce\n",
      "  return ufunc.reduce(obj, axis, dtype, out, **passkwargs)\n",
      "/anaconda3/envs/pinar/lib/python3.7/site-packages/numpy/core/fromnumeric.py:90: RuntimeWarning: invalid value encountered in reduce\n",
      "  return ufunc.reduce(obj, axis, dtype, out, **passkwargs)\n",
      "/anaconda3/envs/pinar/lib/python3.7/site-packages/numpy/lib/nanfunctions.py:1545: RuntimeWarning: overflow encountered in multiply\n",
      "  sqr = np.multiply(arr, arr, out=arr)\n",
      "/anaconda3/envs/pinar/lib/python3.7/site-packages/numpy/core/fromnumeric.py:90: RuntimeWarning: overflow encountered in reduce\n",
      "  return ufunc.reduce(obj, axis, dtype, out, **passkwargs)\n",
      "/anaconda3/envs/pinar/lib/python3.7/site-packages/numpy/core/fromnumeric.py:90: RuntimeWarning: invalid value encountered in reduce\n",
      "  return ufunc.reduce(obj, axis, dtype, out, **passkwargs)\n"
     ]
    }
   ],
   "source": [
    "results = []\n",
    "for i in range(len(models)):\n",
    "    print(model_names[i])\n",
    "    kfold = StratifiedKFold(n_splits=5, random_state=42)\n",
    "    if np.all(np.isfinite(data_UP)) == True and np.any(np.isnan(data_UP)) == False:\n",
    "        #cv_res = cross_val_score(models[i], data_UP, labels_UP, cv=kfold, scoring='accuracy')\n",
    "        pedictions_UP = cross_val_predict(models[i], data_UP, labels_UP, cv=kfold)\n",
    "        cv_accuracy = calculate_score_groupLevel(ids, pedictions_UP, labels_UP)\n",
    "        results.append(cv_accuracy)\n",
    "        msg = \"m%s: %f (%f)\" % (model_names[i], cv_accuracy.mean(), cv_accuracy.std())\n",
    "        print(msg)\n",
    "    else:\n",
    "        print('Data has infinite or NaN value!')    "
   ]
  },
  {
   "cell_type": "markdown",
   "metadata": {},
   "source": [
    "Below boxplot visualizes the distibutions of corssvalidation results for LDA and LR models."
   ]
  },
  {
   "cell_type": "code",
   "execution_count": 13,
   "metadata": {},
   "outputs": [
    {
     "data": {
      "image/png": "[encoded data removed]",
      "text/plain": [
       "<Figure size 432x288 with 1 Axes>"
      ]
     },
     "metadata": {
      "needs_background": "light"
     },
     "output_type": "display_data"
    }
   ],
   "source": [
    "import matplotlib\n",
    "import matplotlib.pyplot as plt\n",
    "%matplotlib inline\n",
    "\n",
    "fig = plt.figure()\n",
    "fig.suptitle('Model Comparison')\n",
    "ax = fig.add_subplot(111)\n",
    "plt.boxplot(results)\n",
    "ax.set_xticklabels(model_names)\n",
    "plt.show()"
   ]
  },
  {
   "cell_type": "markdown",
   "metadata": {},
   "source": [
    "Independent t-test is applied to statistically show whether there is a significant difference between performace of two models. Small p-value means that performace of models are significantly different, large p-value indicates that models are performing similar. In general, as the threshold for determining whether two distributions are different or not p = 0.05 is preffered."
   ]
  },
  {
   "cell_type": "code",
   "execution_count": 14,
   "metadata": {},
   "outputs": [
    {
     "name": "stdout",
     "output_type": "stream",
     "text": [
      "p = 0.3745601608525917\n"
     ]
    }
   ],
   "source": [
    "t, p = stats.ttest_ind(results[0],results[1])\n",
    "print(\"p = \" + str(p))"
   ]
  },
  {
   "cell_type": "markdown",
   "metadata": {},
   "source": [
    "Since p-value is larger than 0.05, we can conclude that there is no significant difference between performance of LDA and performance of LR on the task of classification between unpleasant and pleasant events."
   ]
  },
  {
   "cell_type": "markdown",
   "metadata": {},
   "source": [
    "### Example #2:  Classification between Unpleasant and Pleasant Events"
   ]
  },
  {
   "cell_type": "code",
   "execution_count": 135,
   "metadata": {},
   "outputs": [
    {
     "name": "stdout",
     "output_type": "stream",
     "text": [
      "(8610, 64, 384)\n",
      "(8610,)\n"
     ]
    }
   ],
   "source": [
    "# Dataset with unpleasant and neutral events\n",
    "data_UP, labels_UP = getData_labels(epochs_all_UP)\n",
    "print(data_UP.shape)\n",
    "print(labels_UP.shape)"
   ]
  },
  {
   "cell_type": "code",
   "execution_count": 136,
   "metadata": {},
   "outputs": [
    {
     "name": "stdout",
     "output_type": "stream",
     "text": [
      "(6027, 64, 384)\n",
      "(2583, 64, 384)\n"
     ]
    }
   ],
   "source": [
    "train_data_UP, test_data_UP, labels_train_UP, labels_test_UP = train_test_split(data_UP, labels_UP, test_size=0.3, random_state=42)\n",
    "print(train_data_UP.shape)\n",
    "print(test_data_UP.shape)"
   ]
  },
  {
   "cell_type": "code",
   "execution_count": 137,
   "metadata": {},
   "outputs": [
    {
     "name": "stderr",
     "output_type": "stream",
     "text": [
      "/Users/pinargoktepe/miniconda3/lib/python3.7/site-packages/sklearn/discriminant_analysis.py:388: UserWarning: Variables are collinear.\n",
      "  warnings.warn(\"Variables are collinear.\")\n"
     ]
    },
    {
     "name": "stdout",
     "output_type": "stream",
     "text": [
      "Accuracy of LDA model: 0.5257452574525745\n",
      "Precision: 0.5258076314274751, Recall: 0.5258103241296519, f1-score:0.525742698467727\n"
     ]
    }
   ],
   "source": [
    "# Linear Discriminant Analysis\n",
    "clf_lda_pip = make_pipeline(Vectorizer(), StandardScaler(), LinearDiscriminantAnalysis(solver='svd'))\n",
    "clf_lda_pip.fit(train_data_UP,labels_train_UP)\n",
    "\n",
    "predictions_lda = clf_lda_pip.predict(test_data_UP)\n",
    "\n",
    "acc_lda = accuracy_score(labels_test_UP, predictions_lda)\n",
    "print(\"Accuracy of LDA model: {}\".format(acc_lda))\n",
    "\n",
    "precision_lda,recall_lda,fscore_lda,support_lda=precision_recall_fscore_support(labels_test_UP,predictions_lda,average='macro')\n",
    "print('Precision: {0}, Recall: {1}, f1-score:{2}'.format(precision_lda,recall_lda,fscore_lda))"
   ]
  },
  {
   "cell_type": "code",
   "execution_count": 138,
   "metadata": {},
   "outputs": [
    {
     "name": "stderr",
     "output_type": "stream",
     "text": [
      "/Users/pinargoktepe/miniconda3/lib/python3.7/site-packages/sklearn/linear_model/logistic.py:432: FutureWarning: Default solver will be changed to 'lbfgs' in 0.22. Specify a solver to silence this warning.\n",
      "  FutureWarning)\n"
     ]
    },
    {
     "name": "stdout",
     "output_type": "stream",
     "text": [
      "Accuracy of LR model: 0.5663956639566395\n",
      "Precision: 0.5664200768367436, Recall: 0.566431467691972, f1-score:0.5663846804122474\n"
     ]
    }
   ],
   "source": [
    "#Logistic Regression\n",
    "clf_lr_pip = make_pipeline(Vectorizer(), StandardScaler(), LogisticRegression(penalty='l1', random_state=42))\n",
    "clf_lr_pip.fit(train_data_UP,labels_train_UP)\n",
    "\n",
    "predictions_lr = clf_lr_pip.predict(test_data_UP)\n",
    "\n",
    "acc_lr = accuracy_score(labels_test_UP, predictions_lr)\n",
    "print(\"Accuracy of LR model: {}\".format(acc_lr))\n",
    "\n",
    "precision_lr,recall_lr,fscore_lr,support_lra=precision_recall_fscore_support(labels_test_UP,predictions_lr,average='macro')\n",
    "print('Precision: {0}, Recall: {1}, f1-score:{2}'.format(precision_lr,recall_lr,fscore_lr))"
   ]
  },
  {
   "cell_type": "code",
   "execution_count": 139,
   "metadata": {},
   "outputs": [],
   "source": [
    "accuracies.append([acc_lda, acc_lr])\n",
    "f1_scores.append([fscore_lda, fscore_lr])"
   ]
  },
  {
   "cell_type": "markdown",
   "metadata": {},
   "source": [
    "### Example #3: Classification between Pleasant and Neutral Events"
   ]
  },
  {
   "cell_type": "code",
   "execution_count": 140,
   "metadata": {},
   "outputs": [
    {
     "name": "stdout",
     "output_type": "stream",
     "text": [
      "(8707, 64, 384)\n",
      "(8707,)\n"
     ]
    }
   ],
   "source": [
    "# Dataset with unpleasant and neutral events\n",
    "data_NP, labels_NP = getData_labels(epochs_all_NP)\n",
    "print(data_NP.shape)\n",
    "print(labels_NP.shape)"
   ]
  },
  {
   "cell_type": "code",
   "execution_count": 141,
   "metadata": {},
   "outputs": [
    {
     "name": "stdout",
     "output_type": "stream",
     "text": [
      "(6094, 64, 384)\n",
      "(2613, 64, 384)\n"
     ]
    }
   ],
   "source": [
    "train_data_NP, test_data_NP, labels_train_NP, labels_test_NP = train_test_split(data_NP, labels_NP, test_size=0.3, random_state=42)\n",
    "print(train_data_NP.shape)\n",
    "print(test_data_NP.shape)"
   ]
  },
  {
   "cell_type": "code",
   "execution_count": 142,
   "metadata": {},
   "outputs": [
    {
     "name": "stderr",
     "output_type": "stream",
     "text": [
      "/Users/pinargoktepe/miniconda3/lib/python3.7/site-packages/sklearn/discriminant_analysis.py:388: UserWarning: Variables are collinear.\n",
      "  warnings.warn(\"Variables are collinear.\")\n"
     ]
    },
    {
     "name": "stdout",
     "output_type": "stream",
     "text": [
      "Accuracy of LDA model: 0.5208572522005358\n",
      "Precision: 0.5208719780921569, Recall: 0.5208702172906914, f1-score:0.5208515679099572\n"
     ]
    }
   ],
   "source": [
    "# Linear Discriminant Analysis\n",
    "clf_lda_pip = make_pipeline(Vectorizer(), StandardScaler(), LinearDiscriminantAnalysis(solver='svd'))\n",
    "clf_lda_pip.fit(train_data_NP,labels_train_NP)\n",
    "\n",
    "predictions_lda = clf_lda_pip.predict(test_data_NP)\n",
    "\n",
    "acc_lda = accuracy_score(labels_test_NP, predictions_lda)\n",
    "print(\"Accuracy of LDA model: {}\".format(acc_lda))\n",
    "\n",
    "precision_lda,recall_lda,fscore_lda,support_lda=precision_recall_fscore_support(labels_test_NP,predictions_lda,average='macro')\n",
    "print('Precision: {0}, Recall: {1}, f1-score:{2}'.format(precision_lda,recall_lda,fscore_lda))"
   ]
  },
  {
   "cell_type": "code",
   "execution_count": 143,
   "metadata": {},
   "outputs": [
    {
     "name": "stderr",
     "output_type": "stream",
     "text": [
      "/Users/pinargoktepe/miniconda3/lib/python3.7/site-packages/sklearn/linear_model/logistic.py:432: FutureWarning: Default solver will be changed to 'lbfgs' in 0.22. Specify a solver to silence this warning.\n",
      "  FutureWarning)\n"
     ]
    },
    {
     "name": "stdout",
     "output_type": "stream",
     "text": [
      "Accuracy of LR model: 0.53769613471106\n",
      "Precision: 0.5376946465605118, Recall: 0.5376948673935076, f1-score:0.5376944419708765\n"
     ]
    }
   ],
   "source": [
    "#Logistic Regression\n",
    "clf_lr_pip = make_pipeline(Vectorizer(), StandardScaler(), LogisticRegression(penalty='l1', random_state=42))\n",
    "clf_lr_pip.fit(train_data_NP,labels_train_NP)\n",
    "\n",
    "predictions_lr = clf_lr_pip.predict(test_data_NP)\n",
    "\n",
    "acc_lr = accuracy_score(labels_test_NP, predictions_lr)\n",
    "print(\"Accuracy of LR model: {}\".format(acc_lr))\n",
    "\n",
    "precision_lr,recall_lr,fscore_lr,support_lr=precision_recall_fscore_support(labels_test_NP,predictions_lr,average='macro')\n",
    "print('Precision: {0}, Recall: {1}, f1-score:{2}'.format(precision_lr,recall_lr,fscore_lr))"
   ]
  },
  {
   "cell_type": "code",
   "execution_count": 144,
   "metadata": {},
   "outputs": [],
   "source": [
    "accuracies.append([acc_lda, acc_lr])\n",
    "f1_scores.append([fscore_lda, fscore_lr])"
   ]
  },
  {
   "cell_type": "code",
   "execution_count": 145,
   "metadata": {},
   "outputs": [],
   "source": [
    "import matplotlib\n",
    "import matplotlib.pyplot as plt\n",
    "import numpy as np\n",
    "%matplotlib inline"
   ]
  },
  {
   "cell_type": "code",
   "execution_count": 231,
   "metadata": {},
   "outputs": [],
   "source": [
    "def plotEvalMetrics(tasks, labels, evalMetric, metricName):\n",
    "    width = 0.2  # the width of the bars\n",
    "\n",
    "    # Set position of bar on X axis\n",
    "    rects1 = np.arange(len(evalMetric))\n",
    "    rects2 = [x + width for x in rects1]\n",
    "    rects3 = [x + width for x in rects2]\n",
    "\n",
    "    plt.bar(rects1, list(zip(*evalMetric))[0], color='#87CEFA', width=width, edgecolor='white', label=labels[0])\n",
    "    plt.bar(rects2, list(zip(*evalMetric))[1], color='#FFE4E1', width=width, edgecolor='white', label=labels[1])\n",
    "    \n",
    "    plt.xlabel('Classification Tasks')\n",
    "    plt.xticks([r + width/2 for r in range(len(evalMetric))], tasks)\n",
    "    plt.ylabel(metricName)\n",
    "\n",
    "    plt.legend(bbox_to_anchor=(1.01, 1), loc='upper left', )\n",
    "    plt.show()"
   ]
  },
  {
   "cell_type": "code",
   "execution_count": 233,
   "metadata": {},
   "outputs": [
    {
     "data": {
      "image/png": "[encoded data removed]",
      "text/plain": [
       "<Figure size 432x288 with 1 Axes>"
      ]
     },
     "metadata": {
      "needs_background": "light"
     },
     "output_type": "display_data"
    }
   ],
   "source": [
    "#Plot Accuracies\n",
    "tasks = ['UN', 'UP', 'NP']\n",
    "labels = ['LDA', 'LR']\n",
    "plotEvalMetrics(tasks, labels, accuracies, 'Accuracy')"
   ]
  },
  {
   "cell_type": "code",
   "execution_count": 234,
   "metadata": {},
   "outputs": [
    {
     "data": {
      "image/png": "[encoded data removed]",
      "text/plain": [
       "<Figure size 432x288 with 1 Axes>"
      ]
     },
     "metadata": {
      "needs_background": "light"
     },
     "output_type": "display_data"
    }
   ],
   "source": [
    "#Plot F1 Scores\n",
    "tasks = ['UN', 'UP', 'NP']\n",
    "labels = ['LDA', 'LR']\n",
    "plotEvalMetrics(tasks, labels, f1_scores, 'F1-Scores')"
   ]
  },
  {
   "cell_type": "markdown",
   "metadata": {},
   "source": [
    "As part of group level analysis of eeg data, logistic regression (lr) and linear discriminant analysis (lda) are created as in the previous tutorial but this time svm is omitted because it requires hours to build with the amount of data we have. \n",
    "\n",
    "As both accuracy and f1 score plots demonstrated, logistic regression is performing better than lda on all tasks unlike the previous tutorial in which we analyze the data on individual participant level."
   ]
  },
  {
   "cell_type": "code",
   "execution_count": null,
   "metadata": {},
   "outputs": [],
   "source": []
  },
  {
   "cell_type": "code",
   "execution_count": null,
   "metadata": {},
   "outputs": [],
   "source": []
  }
 ],
 "metadata": {
  "@webio": {
   "lastCommId": null,
   "lastKernelId": null
  },
  "kernelspec": {
   "display_name": "Python 3",
   "language": "python",
   "name": "python3"
  },
  "language_info": {
   "codemirror_mode": {
    "name": "ipython",
    "version": 3
   },
   "file_extension": ".py",
   "mimetype": "text/x-python",
   "name": "python",
   "nbconvert_exporter": "python",
   "pygments_lexer": "ipython3",
   "version": "3.7.1"
  }
 },
 "nbformat": 4,
 "nbformat_minor": 2
}
